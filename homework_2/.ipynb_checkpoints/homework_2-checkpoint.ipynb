{
 "cells": [
  {
   "cell_type": "markdown",
   "id": "e53cf9b2",
   "metadata": {},
   "source": [
    "# Задание 1\n",
    "\n",
    "Сравнение длины двух заданных фраз"
   ]
  },
  {
   "cell_type": "code",
   "execution_count": 1,
   "id": "5bda60f9",
   "metadata": {},
   "outputs": [
    {
     "name": "stdout",
     "output_type": "stream",
     "text": [
      "Фразы равной длины\n"
     ]
    }
   ],
   "source": [
    "phrase_1 = 'Hot hot'\n",
    "phrase_2 = 'Hot dog'\n",
    "if len(phrase_1) > len(phrase_2):\n",
    "    print('Фраза 1 длиннее фразы 2')\n",
    "elif len(phrase_1) < len(phrase_2):\n",
    "    print('Фраза 2 длиннее фразы 1')\n",
    "else:\n",
    "    print('Фразы равной длины')"
   ]
  },
  {
   "cell_type": "markdown",
   "id": "f07f64c8",
   "metadata": {},
   "source": [
    "# Задание 2"
   ]
  },
  {
   "cell_type": "markdown",
   "id": "e21823e7",
   "metadata": {},
   "source": [
    "Определение високосного года.\n",
    "\n",
    "Любой год, который делится на 4 без остатка, является високосным годом: например, 1988, 1992 и 1996 годы являются високосными годами.\n",
    "\n",
    "Тем не менее, есть еще небольшая ошибка, которая должна быть учтена. Чтобы устранить эту ошибку, григорианский календарь предусматривает, что год, который делится без остатка на 100 (например, 1900) является високосным годом только в том случае, если он также без остатка делится на 400."
   ]
  },
  {
   "cell_type": "code",
   "execution_count": 6,
   "id": "e18af8f4",
   "metadata": {},
   "outputs": [
    {
     "name": "stdout",
     "output_type": "stream",
     "text": [
      "Обычный год\n"
     ]
    }
   ],
   "source": [
    "year = 2021\n",
    "if(year % 4 == 0 and year % 100 != 0) or (year % 4 == 0 and year % 100 == 0 and year % 400 == 0):\n",
    "    print('Високосный год')\n",
    "else:\n",
    "    print('Обычный год')"
   ]
  },
  {
   "cell_type": "markdown",
   "id": "a4c4a547",
   "metadata": {},
   "source": [
    "# Задание 3\n",
    "\n",
    "Вывод знака зодиака в зависимости от введенных пользователем данных о дне и месяце рождения."
   ]
  },
  {
   "cell_type": "code",
   "execution_count": 19,
   "id": "b8dbc033",
   "metadata": {},
   "outputs": [
    {
     "name": "stdout",
     "output_type": "stream",
     "text": [
      "Введите день рождения, например, 19: 29\n",
      "Введите месяц рождения, например, Апрель: октяБРЬ\n",
      "Ваш знак зодиака:  Скорпион\n"
     ]
    }
   ],
   "source": [
    "day_of_birth = input('Введите день рождения, например, 19: ')\n",
    "month_of_birth = input('Введите месяц рождения, например, Апрель: ').lower() # перевод месяца в lowercase, чтобы не зависеть от регистра введенных данных\n",
    "if len(day_of_birth) < 2:\n",
    "    day_of_birth = str('0' + day_of_birth) # приведение дня рождения в стандартный двухзначный формат\n",
    "if month_of_birth == 'январь': \n",
    "    date_of_birth = str('01-' + day_of_birth) # склейка месяца и дня рождения к стандартному формату mm-dd\n",
    "elif month_of_birth == 'февраль':\n",
    "    date_of_birth = str('02-' + day_of_birth)\n",
    "elif month_of_birth == 'март':\n",
    "    date_of_birth = str('03-' + day_of_birth)\n",
    "elif month_of_birth == 'апрель':\n",
    "    date_of_birth = str('04-' + day_of_birth)\n",
    "elif month_of_birth == 'май':\n",
    "    date_of_birth = str('05-' + day_of_birth)\n",
    "elif month_of_birth == 'июнь':\n",
    "    date_of_birth = str('06-' + day_of_birth)\n",
    "elif month_of_birth == 'июль':\n",
    "    date_of_birth = str('07-' + day_of_birth)\n",
    "elif month_of_birth == 'август':\n",
    "    date_of_birth = str('08-' + day_of_birth)\n",
    "elif month_of_birth == 'сентябрь':\n",
    "    date_of_birth = str('09-' + day_of_birth)\n",
    "elif month_of_birth == 'октябрь':\n",
    "    date_of_birth = str('10-' + day_of_birth)\n",
    "elif month_of_birth == 'ноябрь':\n",
    "    date_of_birth = str('11-' + day_of_birth)\n",
    "elif month_of_birth == 'декабрь': \n",
    "    date_of_birth = str('12-' + day_of_birth) \n",
    "else:\n",
    "    print('Месяц введен неверно')\n",
    "if '03-21' <= date_of_birth <= '04-20': # назначение знаков зодиака по датам\n",
    "    astrological_sign = 'Овен'\n",
    "elif '04-21' <= date_of_birth <= '05-20':\n",
    "    astrological_sign = 'Телец'\n",
    "elif '05-21' <= date_of_birth <= '06-21':\n",
    "    astrological_sign = 'Близнецы'\n",
    "elif '06-22' <= date_of_birth <= '07-22':\n",
    "    astrological_sign = 'Рак'\n",
    "elif '07-23' <= date_of_birth <= '08-22':\n",
    "    astrological_sign = 'Лев'\n",
    "elif '08-23' <= date_of_birth <= '09-22':\n",
    "    astrological_sign = 'Дева'\n",
    "elif '09-23' <= date_of_birth <= '10-22':\n",
    "    astrological_sign = 'Весы'\n",
    "elif '10-23' <= date_of_birth <= '11-21':\n",
    "    astrological_sign = 'Скорпион'\n",
    "elif '11-22' <= date_of_birth <= '12-20':\n",
    "    astrological_sign = 'Стрелец'\n",
    "elif '12-21' <= date_of_birth <= '01-19':\n",
    "    astrological_sign = 'Козерог'\n",
    "elif '01-20' <= date_of_birth <= '02-19':\n",
    "    astrological_sign = 'Водолей'\n",
    "elif '02-20' <= date_of_birth <= '03-20':\n",
    "    astrological_sign = 'Рыбы'\n",
    "print('Ваш знак зодиака: ', astrological_sign)"
   ]
  },
  {
   "cell_type": "markdown",
   "id": "cf6507e2",
   "metadata": {},
   "source": [
    "# Задание 4\n",
    "\n",
    "Подбор упаковки в зависимости от размера товара.\n",
    "\n",
    "Правила:\n",
    "- если каждое из трех измерений менее 15 сантиметров, то выведите на экран \"Коробка №1\";\n",
    "- если хотя бы одно из измерений больше 15 сантиметров, но менее 50 сантиметров, то выводите \"Коробка №2\";\n",
    "- если длина товара больше 2 метров, то выводите \"Упаковка для лыж\";\n",
    "- во всех остальных случаях выводите \"Стандартная коробка №3\"."
   ]
  },
  {
   "cell_type": "code",
   "execution_count": 30,
   "id": "8784845e",
   "metadata": {},
   "outputs": [
    {
     "name": "stdout",
     "output_type": "stream",
     "text": [
      "Стандартная коробка №3\n"
     ]
    }
   ],
   "source": [
    "width = 50\n",
    "length = 15\n",
    "height = 15\n",
    "if length < 15 and width < 15 and height < 15:\n",
    "    print('Коробка №1')\n",
    "elif 15 < width < 50 or 15 < length < 50 or 15 < height < 50:\n",
    "    print('Коробка №2')\n",
    "elif length > 200:\n",
    "    print('Упаковка для лыж')\n",
    "else:\n",
    "    print('Стандартная коробка №3')"
   ]
  },
  {
   "cell_type": "markdown",
   "id": "458b2c0d",
   "metadata": {},
   "source": [
    "# Задание 5\n",
    "\n",
    "Дана переменная, в которой хранится шестизначное число (номер проездного билета). Напишите программу, которая будет определять, является ли данный билет \"счастливым\". Билет считается счастливым, если сумма первых трех цифр совпадает с суммой последних трех цифр номера."
   ]
  },
  {
   "cell_type": "code",
   "execution_count": 7,
   "id": "b0bf0f6f",
   "metadata": {},
   "outputs": [
    {
     "name": "stdout",
     "output_type": "stream",
     "text": [
      "Счастливый билет!\n"
     ]
    }
   ],
   "source": [
    "ticket_number = '371056'\n",
    "sum_of_first_three_digits = int(ticket_number[0]) + int(ticket_number[1]) + int(ticket_number[2])\n",
    "sum_of_last_three_digits = int(ticket_number[3]) + int(ticket_number[4]) + int(ticket_number[5])\n",
    "if sum_of_first_three_digits == sum_of_last_three_digits:\n",
    "    print('Счастливый билет!')\n",
    "else:\n",
    "    print('Несчастливый билет :( Повезет в другой раз!')"
   ]
  },
  {
   "cell_type": "markdown",
   "id": "d8f5ef38",
   "metadata": {},
   "source": [
    "# Задание 6\n",
    "Расчет площади трех фигур - круга, треугольника и прямоугольника. \n",
    "\n",
    "- если пользователь выбрал круг, запрашиваем его радиус;\n",
    "- если треугольник – длины трех его сторон;\n",
    "- если прямоугольник – длины двух его сторон."
   ]
  },
  {
   "cell_type": "code",
   "execution_count": 8,
   "id": "03070ccd",
   "metadata": {},
   "outputs": [
    {
     "name": "stdout",
     "output_type": "stream",
     "text": [
      "Площадь какой фигуры вы хотите рассчитать: круг, треугольник или прямоугольник? прямоугольник\n",
      "Введите длину стороны a в см: 1\n",
      "Введите длину стороны b в см: 2\n",
      "Площадь прямоугольника равна  2 см^2\n"
     ]
    }
   ],
   "source": [
    "import math # импорт библиотеки math для использования константы pi и квадратного корня\n",
    "figure_type = input('Площадь какой фигуры вы хотите рассчитать: круг, треугольник или прямоугольник? ')\n",
    "if figure_type.lower() == 'круг':\n",
    "    radius = int(input('Введите радиус круга в см: '))\n",
    "    print('Площадь круга равна ', round(math.pi * (radius ** 2), 2), 'см^2')\n",
    "elif figure_type.lower() == 'треугольник':\n",
    "    side_a = int(input('Введите длину стороны a в см: '))\n",
    "    side_b = int(input('Введите длину стороны b в см: '))\n",
    "    side_c = int(input('Введите длину стороны c в см: '))\n",
    "    semi_perimeter = (side_a + side_b + side_c) / 2 # полупериметр нужен для расчета площади треугольника по трем сторонам\n",
    "    print ('Площадь треугольника равна ', round(math.sqrt(semi_perimeter * (semi_perimeter - side_a) * (semi_perimeter - side_b) * (semi_perimeter - side_c)), 2), 'см^2')\n",
    "elif figure_type.lower() == 'прямоугольник':\n",
    "    side_a = int(input('Введите длину стороны a в см: '))\n",
    "    side_b = int(input('Введите длину стороны b в см: '))\n",
    "    print('Площадь прямоугольника равна ', round(side_a * side_b, 2), 'см^2')\n",
    "else:\n",
    "    print('С этой фигурой я еще не умею работать. Считай сам!')\n"
   ]
  }
 ],
 "metadata": {
  "kernelspec": {
   "display_name": "Python 3",
   "language": "python",
   "name": "python3"
  },
  "language_info": {
   "codemirror_mode": {
    "name": "ipython",
    "version": 3
   },
   "file_extension": ".py",
   "mimetype": "text/x-python",
   "name": "python",
   "nbconvert_exporter": "python",
   "pygments_lexer": "ipython3",
   "version": "3.8.8"
  }
 },
 "nbformat": 4,
 "nbformat_minor": 5
}
