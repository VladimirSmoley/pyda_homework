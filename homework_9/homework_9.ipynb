{
 "cells": [
  {
   "cell_type": "markdown",
   "id": "eb941d26",
   "metadata": {},
   "source": [
    "# Домашнее задание к лекции \"Библиотека numpy. Вычислительные задачи\""
   ]
  },
  {
   "cell_type": "code",
   "execution_count": 1,
   "id": "fec8c6f5",
   "metadata": {},
   "outputs": [],
   "source": [
    "import numpy as np"
   ]
  },
  {
   "cell_type": "markdown",
   "id": "248fc65c",
   "metadata": {},
   "source": [
    "## Задание 1\n",
    "\n",
    "Создайте numpy array с элементами от числа N до 0 (например, для N = 10 это будет array([9, 8, 7, 6, 5, 4, 3, 2, 1, 0]))."
   ]
  },
  {
   "cell_type": "code",
   "execution_count": 2,
   "id": "3724af55",
   "metadata": {},
   "outputs": [
    {
     "name": "stdout",
     "output_type": "stream",
     "text": [
      "Введите N: 5\n"
     ]
    },
    {
     "data": {
      "text/plain": [
       "array([4, 3, 2, 1, 0])"
      ]
     },
     "execution_count": 2,
     "metadata": {},
     "output_type": "execute_result"
    }
   ],
   "source": [
    "n = int(input('Введите N: '))\n",
    "x = np.arange(0, n)\n",
    "np.flip(x)\n"
   ]
  },
  {
   "cell_type": "markdown",
   "id": "5cd0470e",
   "metadata": {},
   "source": [
    "## Задание 2\n",
    "\n",
    "Создайте диагональную матрицу с элементами от N до 0. Посчитайте сумму ее значений на диагонали."
   ]
  },
  {
   "cell_type": "code",
   "execution_count": 3,
   "id": "ef4617f3",
   "metadata": {},
   "outputs": [
    {
     "name": "stdout",
     "output_type": "stream",
     "text": [
      "Введите N: 5\n"
     ]
    },
    {
     "data": {
      "text/plain": [
       "10"
      ]
     },
     "execution_count": 3,
     "metadata": {},
     "output_type": "execute_result"
    }
   ],
   "source": [
    "n = int(input('Введите N: '))\n",
    "x = np.diag(np.flip(np.arange(0, n)))\n",
    "# np.diag -> create diagonal matrix\n",
    "# np.flip -> reverse a numpy array\n",
    "x\n",
    "\n",
    "np.trace(x)\n",
    "# np.trace -> sum of the values on the diagonal\n"
   ]
  },
  {
   "cell_type": "markdown",
   "id": "21211ca0",
   "metadata": {},
   "source": [
    "## Задание 3\n",
    "\n",
    "Решите систему уравнений:  \n",
    "4x + 2y + z = 4  \n",
    "x + 3y = 12  \n",
    "5y + 4z = -3"
   ]
  },
  {
   "cell_type": "code",
   "execution_count": 4,
   "id": "b73c8788",
   "metadata": {},
   "outputs": [
    {
     "data": {
      "text/plain": [
       "array([ 0.46666667,  3.84444444, -5.55555556])"
      ]
     },
     "execution_count": 4,
     "metadata": {},
     "output_type": "execute_result"
    }
   ],
   "source": [
    "a = np.array( [ [4, 2, 1], [1, 3, 0], [0, 5, 4] ] )  # left-hand side\n",
    "b = np.array( [4, 12, -3])  # right-hand side\n",
    "np.linalg.solve(a, b)\n"
   ]
  },
  {
   "cell_type": "markdown",
   "id": "d17cf743",
   "metadata": {},
   "source": [
    "## Задание 4\n",
    "\n",
    "Имеется матрица покупок в интернет-магазине. Столбец А - ID пользователя. Остальные столбцы - количество покупок категорий товаров этим пользователем:"
   ]
  },
  {
   "cell_type": "code",
   "execution_count": 5,
   "id": "14ed0cc9",
   "metadata": {},
   "outputs": [],
   "source": [
    "users_stats = np.array(\n",
    "    [\n",
    "        [2, 1, 0, 0, 0, 0],\n",
    "        [1, 1, 2, 1, 0, 0],\n",
    "        [2, 0, 1, 0, 0, 0],\n",
    "        [1, 1, 2, 1, 0, 1],\n",
    "        [0, 0, 1, 2, 0, 0],\n",
    "        [0, 0, 0, 0, 0, 5],\n",
    "        [1, 0, 0, 0, 0, 0],\n",
    "        [0, 1, 1, 0, 0, 0],\n",
    "        [0, 0, 0, 1, 1, 3],\n",
    "        [1, 0, 0, 2, 1, 4]\n",
    "    ], \n",
    "    np.int32\n",
    ")\n"
   ]
  },
  {
   "cell_type": "markdown",
   "id": "47b3a1a6",
   "metadata": {},
   "source": [
    "На сайт заходит очередной посетитель, о покупках которого известно следующее:"
   ]
  },
  {
   "cell_type": "code",
   "execution_count": 6,
   "id": "cdb42323",
   "metadata": {},
   "outputs": [],
   "source": [
    "next_user_stats = np.array([0, 1, 2, 0, 0, 0])\n"
   ]
  },
  {
   "cell_type": "markdown",
   "id": "4c24d85e",
   "metadata": {},
   "source": [
    "Найдите самого похожего пользователя. Т. е. посчитайте косинусное сходство между этим пользователем и всеми пользователями из массива user_stats"
   ]
  },
  {
   "cell_type": "code",
   "execution_count": 7,
   "id": "6fd9b428",
   "metadata": {
    "scrolled": false
   },
   "outputs": [
    {
     "data": {
      "text/plain": [
       "'Наиболее похожий пользователь ID = 8. Косинусное сходство = 0.9486832980505138'"
      ]
     },
     "execution_count": 7,
     "metadata": {},
     "output_type": "execute_result"
    }
   ],
   "source": [
    "next_user_length = np.linalg.norm( next_user_stats )  # vector length\n",
    "cosine_values = []\n",
    "\n",
    "for user in users_stats:\n",
    "    old_user_length = np.linalg.norm( user )  # vector length\n",
    "    cosine = np.dot( next_user_stats, user ) / ( next_user_length * old_user_length )  # specific formula for cosine calculation\n",
    "    cosine_values.append(cosine)\n",
    "\n",
    "f'Наиболее похожий пользователь ID = {cosine_values.index(max(cosine_values)) + 1}. Косинусное сходство = {max(cosine_values)}'\n"
   ]
  }
 ],
 "metadata": {
  "kernelspec": {
   "display_name": "Python 3",
   "language": "python",
   "name": "python3"
  },
  "language_info": {
   "codemirror_mode": {
    "name": "ipython",
    "version": 3
   },
   "file_extension": ".py",
   "mimetype": "text/x-python",
   "name": "python",
   "nbconvert_exporter": "python",
   "pygments_lexer": "ipython3",
   "version": "3.8.8"
  }
 },
 "nbformat": 4,
 "nbformat_minor": 5
}
