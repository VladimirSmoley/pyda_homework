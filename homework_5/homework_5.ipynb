{
 "cells": [
  {
   "cell_type": "code",
   "execution_count": 1,
   "id": "51326ef4",
   "metadata": {},
   "outputs": [],
   "source": [
    "import json\n",
    "# import 'json' in order to change lines into dictionaries/lists while reading"
   ]
  },
  {
   "cell_type": "code",
   "execution_count": 2,
   "id": "1b9a581c",
   "metadata": {
    "scrolled": true
   },
   "outputs": [],
   "source": [
    "purchases = {} # initiate empty dictionary\n",
    "with open('purchase_log.txt', 'r', encoding = 'utf-8') as f:\n",
    "    purchase_log = f.readlines() # open file for reading and load it into RAM\n",
    "    \n",
    "    for line in purchase_log:\n",
    "        line = json.loads(line) # iterate over lines from file and change them into dictionaries\n",
    "        purchases[line['user_id']] = line['category'] # use user_id as a key and category as a value for 'purchases' dictionary\n",
    "\n",
    "del(purchases['user_id']) # delete key-value pair with headers"
   ]
  },
  {
   "cell_type": "code",
   "execution_count": 3,
   "id": "a4a977be",
   "metadata": {},
   "outputs": [
    {
     "name": "stdout",
     "output_type": "stream",
     "text": [
      "1840e0b9d4 Продукты\n",
      "4e4f90fcfb Электроника\n",
      "afea8d72fc Электроника\n",
      "373a6055fe Бытовая техника\n",
      "9b2ab046f3 Электроника\n",
      "9f39d307c3 Электроника\n"
     ]
    }
   ],
   "source": [
    "# check the content of the 'purchases' dictionary\n",
    "i = 0\n",
    "for key, value in purchases.items():\n",
    "    print(key, value)\n",
    "    i += 1\n",
    "    if i > 5:\n",
    "        break\n",
    "    "
   ]
  },
  {
   "cell_type": "code",
   "execution_count": 4,
   "id": "b29a2d0a",
   "metadata": {},
   "outputs": [],
   "source": [
    "with open('visit_log.csv', 'r', encoding = 'utf-8') as f: # open 'visit_log.csv' for reading\n",
    "    with open('funnel.csv', 'w') as f2write: # open/create 'funel.csv' for writing\n",
    "        for line in f: # iterate over lines in 'visit_log.csv'\n",
    "            if line.strip().split(',')[0] in purchases.keys(): # check if we have this user_id in keys of 'purchases' dictionary\n",
    "                f2write.write(line.strip() + ',' + purchases[line.strip().split(',')[0]] + '\\n')\n",
    "                # write line from original file together with corresponding value from 'purchases' dictionary\n",
    "                # ',' for separating values; '\\n' for new lines"
   ]
  }
 ],
 "metadata": {
  "kernelspec": {
   "display_name": "Python 3",
   "language": "python",
   "name": "python3"
  },
  "language_info": {
   "codemirror_mode": {
    "name": "ipython",
    "version": 3
   },
   "file_extension": ".py",
   "mimetype": "text/x-python",
   "name": "python",
   "nbconvert_exporter": "python",
   "pygments_lexer": "ipython3",
   "version": "3.8.8"
  }
 },
 "nbformat": 4,
 "nbformat_minor": 5
}
