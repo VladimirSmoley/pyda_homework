{
 "cells": [
  {
   "cell_type": "markdown",
   "id": "d21fe19a",
   "metadata": {},
   "source": [
    "# Помощник секретаря\n",
    "### Исходные данные:\n",
    "\n",
    "1. перечень всех документов<br>\n",
    "documents\n",
    "1. перечень полок, на которых хранятся документы (если документ есть в documents, то он обязательно должен быть и в directories)<br>\n",
    "directories\n",
    "### Общие требования к программе:\n",
    "\n",
    "- код должен быть грамотно декомпозирован (каждая функция отвечает за свою конкретную задачу, дублирующийся функционал переиспользуется, а его код не повторяется);\n",
    "- в коде отсутствуют глобальные переменные (за исключением documents и directories);\n",
    "- пользовательский ввод обрабатывается в цикле while до тех пор, пока пользователь явно не завершит программу (вводом команды \"q\")."
   ]
  },
  {
   "cell_type": "code",
   "execution_count": 9,
   "id": "fec38466",
   "metadata": {},
   "outputs": [],
   "source": [
    "documents = [\n",
    " {'type': 'passport', 'number': '2207 876234', 'name': 'Василий Гупкин'},\n",
    " {'type': 'invoice', 'number': '11-2', 'name': 'Геннадий Покемонов'},\n",
    " {'type': 'insurance', 'number': '10006', 'name': 'Аристарх Павлов'}\n",
    "]"
   ]
  },
  {
   "cell_type": "code",
   "execution_count": 10,
   "id": "8632409e",
   "metadata": {},
   "outputs": [],
   "source": [
    "directories = {\n",
    " '1': ['2207 876234', '11-2'],\n",
    " '2': ['10006'],\n",
    " '3': []\n",
    "}"
   ]
  },
  {
   "cell_type": "markdown",
   "id": "512bb55f",
   "metadata": {},
   "source": [
    "### Пункт 1. Узнать владельца документа по его номеру"
   ]
  },
  {
   "cell_type": "code",
   "execution_count": 1,
   "id": "ec7733e5",
   "metadata": {},
   "outputs": [],
   "source": [
    "def document_owner(documents, get_document_number):\n",
    "    \"\"\"\n",
    "    возвращает владельца документа по номеру документа\n",
    "    \"\"\"\n",
    "    for document in documents:\n",
    "        if document['number'] == get_document_number:\n",
    "            return document['name'] # в этой функции показалось логичнее возвращать не строку с владельцем, а просто значение владельца\n"
   ]
  },
  {
   "cell_type": "markdown",
   "id": "28437dfc",
   "metadata": {},
   "source": [
    "### Пункт 2. По номеру документа узнать на какой полке он хранится"
   ]
  },
  {
   "cell_type": "code",
   "execution_count": 2,
   "id": "493925b5",
   "metadata": {},
   "outputs": [],
   "source": [
    "def document_directory(directories, get_document_number):\n",
    "    \"\"\"\n",
    "    возвращает полку по номеру документа\n",
    "    \"\"\"\n",
    "    for directory, documents in directories.items():\n",
    "        if get_document_number in documents:\n",
    "            return directory # в этой функции показалось логичнее возвращать не строку с полкой, а просто значение полки\n"
   ]
  },
  {
   "cell_type": "markdown",
   "id": "1da83544",
   "metadata": {},
   "source": [
    "### Пункт 3. Увидеть полную информацию по всем документам"
   ]
  },
  {
   "cell_type": "code",
   "execution_count": 3,
   "id": "80d93e7a",
   "metadata": {},
   "outputs": [],
   "source": [
    "def document_list(documents, directories):\n",
    "    \"\"\"\n",
    "    возвращает информацию по всем документам\n",
    "    \"\"\"\n",
    "    print('Текущий список документов:')\n",
    "    for document in documents:\n",
    "        print(f'№: {document[\"number\"]}, тип: {document[\"type\"]}, владелец: {document[\"name\"]}, полка хранения: {document_directory(directories, document[\"number\"])}')\n"
   ]
  },
  {
   "cell_type": "markdown",
   "id": "13d383a5",
   "metadata": {},
   "source": [
    "### Пункт 4. Добавить новую полку"
   ]
  },
  {
   "cell_type": "code",
   "execution_count": 4,
   "id": "d3f15311",
   "metadata": {},
   "outputs": [],
   "source": [
    "def add_directory(directories):\n",
    "    \"\"\"\n",
    "    добавляет полку, если ее не было в изначальном списке\n",
    "    \"\"\"\n",
    "    get_shelf_number = input('Введите номер полки: ')\n",
    "    if get_shelf_number in list(directories.keys()):\n",
    "        print(f'Такая полка уже существует. Текущий перечень полок: {\", \".join(list(directories.keys()))}.')\n",
    "    else:\n",
    "        directories[get_shelf_number] = []\n",
    "        print(f'Полка добавлена. Текущий перечень полок: {\", \".join(list(directories.keys()))}.')\n"
   ]
  },
  {
   "cell_type": "markdown",
   "id": "ad55cb97",
   "metadata": {},
   "source": [
    "### Пункт 5. Удалить полку, если на ней нет документов"
   ]
  },
  {
   "cell_type": "code",
   "execution_count": 5,
   "id": "31d36517",
   "metadata": {},
   "outputs": [],
   "source": [
    "def delete_directory(directories):\n",
    "    \"\"\"\n",
    "    удаляет полку, если она пустая\n",
    "    \"\"\"\n",
    "    get_shelf_number = input('Введите номер полки: ')\n",
    "    if get_shelf_number in list(directories.keys()) and directories[get_shelf_number] == []:\n",
    "        del[directories[get_shelf_number]]\n",
    "        print(f'Полка удалена. Текущий перечень полок: {\", \".join(list(directories.keys()))}.')\n",
    "    elif get_shelf_number in list(directories.keys()) and directories[get_shelf_number] != []:\n",
    "        print(f'На полке есть документы. Удалите их перед удалением полки. Текущий перечень полок: {\", \".join(list(directories.keys()))}.')\n",
    "    else:\n",
    "        print(f'Такой полки не существует. Текущий перечень полок: {\", \".join(list(directories.keys()))}.')\n"
   ]
  },
  {
   "cell_type": "markdown",
   "id": "8f720e39",
   "metadata": {},
   "source": [
    "### Пункт 6. Добавить документ в список и поставить на полку"
   ]
  },
  {
   "cell_type": "code",
   "execution_count": 6,
   "id": "537e75cb",
   "metadata": {},
   "outputs": [],
   "source": [
    "def add_document(documents, directories):\n",
    "    \"\"\"\n",
    "    добавляет документ в список и ставит его на полку\n",
    "    \"\"\"\n",
    "    get_document_number = input('Введите номер документа: ')\n",
    "    get_document_type = input('Введите тип документа: ')\n",
    "    get_document_owner = input('Введите владельца документа: ')\n",
    "    get_shelf_number = input('Введите полку для хранения: ')\n",
    "    if get_shelf_number not in list(directories.keys()):\n",
    "        print('Такой полки не существует. Добавьте полку командой as.')\n",
    "    else:\n",
    "        documents.append({'type': get_document_type, 'number': get_document_number, 'name': get_document_owner})\n",
    "        directories[get_shelf_number] += [get_document_number]\n",
    "        print('Документ успешно добавлен.')\n",
    "    document_list(documents, directories)\n"
   ]
  },
  {
   "cell_type": "markdown",
   "id": "f75979d2",
   "metadata": {},
   "source": [
    "### Пункт 7. Удалить документ из списка и убрать с полки"
   ]
  },
  {
   "cell_type": "code",
   "execution_count": 7,
   "id": "64fdc2e2",
   "metadata": {},
   "outputs": [],
   "source": [
    "def delete_document(documents, directories):\n",
    "    \"\"\"\n",
    "    удаляет документ из списка и убирает его с полки\n",
    "    \"\"\"\n",
    "    get_document_number = input('Введите номер документа: ')\n",
    "    if document_directory(directories, get_document_number) is None:\n",
    "        print('Документ не найден в базе')\n",
    "    else:\n",
    "        for index, document in enumerate(documents):\n",
    "            if document['number'] == get_document_number:\n",
    "                del(documents[index])\n",
    "                directories[document_directory(directories, get_document_number)].remove(get_document_number)\n",
    "                print('Документ удален')\n",
    "    document_list(documents, directories)\n"
   ]
  },
  {
   "cell_type": "markdown",
   "id": "1d257296",
   "metadata": {},
   "source": [
    "### Пункт 8. Переместить документ с полки на полку"
   ]
  },
  {
   "cell_type": "code",
   "execution_count": 8,
   "id": "4f75c9b7",
   "metadata": {},
   "outputs": [],
   "source": [
    "def move_document(documents, directories):\n",
    "    \"\"\"\n",
    "    перемещает документ с полки на полку\n",
    "    \"\"\"\n",
    "    get_document_number = input('Введите номер документа: ')\n",
    "    get_shelf_number = input('Введите номер полки: ')\n",
    "    if document_directory(directories, get_document_number) is None:\n",
    "        print('Документ не найден в базе.')\n",
    "        document_list(documents, directories)\n",
    "    elif get_shelf_number not in list(directories.keys()):\n",
    "        print(f'Такой полки не существует. Текущий перечень полок: {\", \".join(list(directories.keys()))}.')\n",
    "    else:\n",
    "        directories[document_directory(directories, get_document_number)].remove(get_document_number)\n",
    "        directories[get_shelf_number] += [get_document_number]\n",
    "        print('Документ успешно перемещен.')\n",
    "        document_list(documents, directories)\n"
   ]
  },
  {
   "cell_type": "markdown",
   "id": "0600849c",
   "metadata": {},
   "source": [
    "### Итоговая функция, объединяющая все возможные действия"
   ]
  },
  {
   "cell_type": "code",
   "execution_count": 11,
   "id": "91e3deca",
   "metadata": {},
   "outputs": [],
   "source": [
    "def main(documents, directories):\n",
    "    \"\"\"\n",
    "    Производит операции в зависимости от команды пользователя:\n",
    "    p = Узнать владельца документа по его номеру\n",
    "    s = По номеру документа узнать на какой полке он хранится\n",
    "    l = Увидеть полную информацию по всем документам\n",
    "    as = Добавить новую полку\n",
    "    ds = Удалить полку, если на ней нет документов\n",
    "    ad = Добавить документ и поставить его на полку\n",
    "    d = Удалить документ и убрать его с полки\n",
    "    m = Переставить документ на новую полку\n",
    "    \n",
    "    q = выход из программы\n",
    "    \"\"\"\n",
    "    while True:\n",
    "        request = input('Введите команду: ')\n",
    "        if request == 'q':\n",
    "            break\n",
    "        elif request == 'p':\n",
    "            get_document_number = input('Введите номер документа: ')\n",
    "            if document_owner(documents, get_document_number) is not None:\n",
    "                print(f'Владелец документа: {document_owner(documents, get_document_number)}')\n",
    "            else:\n",
    "                print('Документ не найден в базе')\n",
    "        elif request == 's':\n",
    "            get_document_number = input('Введите номер документа: ')\n",
    "            if document_directory(directories, get_document_number) is not None:\n",
    "                print(f'Документ хранится на полке: {document_directory(directories, get_document_number)}')\n",
    "            else:\n",
    "                print('Документ не найден в базе')\n",
    "        elif request == 'l':\n",
    "            document_list(documents, directories)\n",
    "        elif request == 'as':\n",
    "            add_directory(directories)\n",
    "        elif request == 'ds':\n",
    "            delete_directory(directories)\n",
    "        elif request == 'ad':\n",
    "            add_document(documents, directories)\n",
    "        elif request == 'd':\n",
    "            delete_document(documents, directories)\n",
    "        elif request == 'm':\n",
    "            move_document(documents, directories)\n",
    "        else:\n",
    "            print('Эта команда не входит в мои обязанности')\n"
   ]
  },
  {
   "cell_type": "code",
   "execution_count": 13,
   "id": "b2c4cca6",
   "metadata": {
    "scrolled": true
   },
   "outputs": [
    {
     "name": "stdout",
     "output_type": "stream",
     "text": [
      "Введите команду: p\n",
      "Введите номер документа: 10006\n",
      "Владелец документа: Аристарх Павлов\n",
      "Введите команду: p\n",
      "Введите номер документа: 10007\n",
      "Документ не найден в базе\n",
      "Введите команду: s\n",
      "Введите номер документа: 10006\n",
      "Документ хранится на полке: 2\n",
      "Введите команду: s\n",
      "Введите номер документа: 10007\n",
      "Документ не найден в базе\n",
      "Введите команду: l\n",
      "Текущий список документов:\n",
      "№: 2207 876234, тип: passport, владелец: Василий Гупкин, полка хранения: 1\n",
      "№: 11-2, тип: invoice, владелец: Геннадий Покемонов, полка хранения: 1\n",
      "№: 10006, тип: insurance, владелец: Аристарх Павлов, полка хранения: 2\n",
      "Введите команду: as\n",
      "Введите номер полки: 4\n",
      "Полка добавлена. Текущий перечень полок: 1, 2, 3, 4.\n",
      "Введите команду: as\n",
      "Введите номер полки: 4\n",
      "Такая полка уже существует. Текущий перечень полок: 1, 2, 3, 4.\n",
      "Введите команду: ds\n",
      "Введите номер полки: 4\n",
      "Полка удалена. Текущий перечень полок: 1, 2, 3.\n",
      "Введите команду: ds\n",
      "Введите номер полки: 4\n",
      "Такой полки не существует. Текущий перечень полок: 1, 2, 3.\n",
      "Введите команду: ad\n",
      "Введите номер документа: 1\n",
      "Введите тип документа: 1\n",
      "Введите владельца документа: 1\n",
      "Введите полку для хранения: 4\n",
      "Такой полки не существует. Добавьте полку командой as.\n",
      "Текущий список документов:\n",
      "№: 2207 876234, тип: passport, владелец: Василий Гупкин, полка хранения: 1\n",
      "№: 11-2, тип: invoice, владелец: Геннадий Покемонов, полка хранения: 1\n",
      "№: 10006, тип: insurance, владелец: Аристарх Павлов, полка хранения: 2\n",
      "Введите команду: ad\n",
      "Введите номер документа: 123\n",
      "Введите тип документа: pass\n",
      "Введите владельца документа: Ivan\n",
      "Введите полку для хранения: 3\n",
      "Документ успешно добавлен.\n",
      "Текущий список документов:\n",
      "№: 2207 876234, тип: passport, владелец: Василий Гупкин, полка хранения: 1\n",
      "№: 11-2, тип: invoice, владелец: Геннадий Покемонов, полка хранения: 1\n",
      "№: 10006, тип: insurance, владелец: Аристарх Павлов, полка хранения: 2\n",
      "№: 123, тип: pass, владелец: Ivan, полка хранения: 3\n",
      "Введите команду: d\n",
      "Введите номер документа: 10007\n",
      "Документ не найден в базе\n",
      "Текущий список документов:\n",
      "№: 2207 876234, тип: passport, владелец: Василий Гупкин, полка хранения: 1\n",
      "№: 11-2, тип: invoice, владелец: Геннадий Покемонов, полка хранения: 1\n",
      "№: 10006, тип: insurance, владелец: Аристарх Павлов, полка хранения: 2\n",
      "№: 123, тип: pass, владелец: Ivan, полка хранения: 3\n",
      "Введите команду: d\n",
      "Введите номер документа: 123\n",
      "Документ удален\n",
      "Текущий список документов:\n",
      "№: 2207 876234, тип: passport, владелец: Василий Гупкин, полка хранения: 1\n",
      "№: 11-2, тип: invoice, владелец: Геннадий Покемонов, полка хранения: 1\n",
      "№: 10006, тип: insurance, владелец: Аристарх Павлов, полка хранения: 2\n",
      "Введите команду: m\n",
      "Введите номер документа: 11-2\n",
      "Введите номер полки: 3\n",
      "Документ успешно перемещен.\n",
      "Текущий список документов:\n",
      "№: 2207 876234, тип: passport, владелец: Василий Гупкин, полка хранения: 1\n",
      "№: 11-2, тип: invoice, владелец: Геннадий Покемонов, полка хранения: 3\n",
      "№: 10006, тип: insurance, владелец: Аристарх Павлов, полка хранения: 2\n",
      "Введите команду: m\n",
      "Введите номер документа: 11-2\n",
      "Введите номер полки: 1\n",
      "Документ успешно перемещен.\n",
      "Текущий список документов:\n",
      "№: 2207 876234, тип: passport, владелец: Василий Гупкин, полка хранения: 1\n",
      "№: 11-2, тип: invoice, владелец: Геннадий Покемонов, полка хранения: 1\n",
      "№: 10006, тип: insurance, владелец: Аристарх Павлов, полка хранения: 2\n",
      "Введите команду: m\n",
      "Введите номер документа: 11-3\n",
      "Введите номер полки: 1\n",
      "Документ не найден в базе.\n",
      "Текущий список документов:\n",
      "№: 2207 876234, тип: passport, владелец: Василий Гупкин, полка хранения: 1\n",
      "№: 11-2, тип: invoice, владелец: Геннадий Покемонов, полка хранения: 1\n",
      "№: 10006, тип: insurance, владелец: Аристарх Павлов, полка хранения: 2\n",
      "Введите команду: m\n",
      "Введите номер документа: 11-2\n",
      "Введите номер полки: 4\n",
      "Такой полки не существует. Текущий перечень полок: 1, 2, 3.\n",
      "Введите команду: n\n",
      "Эта команда не входит в мои обязанности\n",
      "Введите команду: q\n"
     ]
    }
   ],
   "source": [
    "main(documents, directories)"
   ]
  }
 ],
 "metadata": {
  "kernelspec": {
   "display_name": "Python 3",
   "language": "python",
   "name": "python3"
  },
  "language_info": {
   "codemirror_mode": {
    "name": "ipython",
    "version": 3
   },
   "file_extension": ".py",
   "mimetype": "text/x-python",
   "name": "python",
   "nbconvert_exporter": "python",
   "pygments_lexer": "ipython3",
   "version": "3.8.8"
  }
 },
 "nbformat": 4,
 "nbformat_minor": 5
}
