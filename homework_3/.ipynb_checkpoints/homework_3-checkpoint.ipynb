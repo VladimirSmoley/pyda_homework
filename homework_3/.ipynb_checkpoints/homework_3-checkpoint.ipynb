{
 "cells": [
  {
   "cell_type": "markdown",
   "id": "36a6bccc",
   "metadata": {},
   "source": [
    "# Задание 1\n",
    "\n",
    "Дана переменная, в которой хранится слово из латинских букв. Напишите код, который выводит на экран:\n",
    "- среднюю букву, если число букв в слове нечетное;\n",
    "- две средних буквы, если число букв четное."
   ]
  },
  {
   "cell_type": "code",
   "execution_count": 3,
   "id": "b1b008a8",
   "metadata": {},
   "outputs": [
    {
     "name": "stdout",
     "output_type": "stream",
     "text": [
      "a\n"
     ]
    }
   ],
   "source": [
    "word = 'finally'\n",
    "if len(word) % 2 == 0:\n",
    "    print(word[int((len(word)) / 2 - 1) : int((len(word)) / 2 + 1)])\n",
    "else:\n",
    "    print(word[int(len(word) / 2 - 0.5)])"
   ]
  },
  {
   "cell_type": "markdown",
   "id": "2aba7b9d",
   "metadata": {},
   "source": [
    "# Задание 2\n",
    "\n",
    "Напишите программу, которая последовательно запрашивает у пользователя числа (по одному за раз) и после первого нуля выводит сумму всех ранее введенных чисел."
   ]
  },
  {
   "cell_type": "code",
   "execution_count": null,
   "id": "3ed447ec",
   "metadata": {},
   "outputs": [],
   "source": [
    "sum_of_numbers = 0\n",
    "number = 1\n",
    "while number != 0:\n",
    "    number = int(input('Введите любое число, чтобы продолжить расчет, или 0, чтобы посчитать сумму ранее введенных чисел: '))\n",
    "    if number != 0:\n",
    "        sum_of_numbers = sum_of_numbers + number\n",
    "    else:\n",
    "        print (sum_of_numbers)"
   ]
  },
  {
   "cell_type": "code",
   "execution_count": null,
   "id": "81d31bbb",
   "metadata": {},
   "outputs": [],
   "source": [
    "sum_of_numbers = 0\n",
    "number = 1\n",
    "while number != 0:\n",
    "    if number == 0:\n",
    "        break\n",
    "    number = int(input('Введите любое число, чтобы продолжить расчет, или 0, чтобы посчитать сумму ранее введенных чисел: '))\n",
    "    sum_of_numbers = sum_of_numbers + number\n",
    "print (sum_of_numbers)"
   ]
  },
  {
   "cell_type": "markdown",
   "id": "1c25fba9",
   "metadata": {},
   "source": [
    "# Задание 3\n",
    "Мы делаем MVP dating-сервиса, и у нас есть список парней и девушек.\n",
    "Выдвигаем гипотезу: лучшие рекомендации мы получим, если просто отсортируем имена по алфавиту и познакомим людей с одинаковыми индексами после сортировки! Но мы не будем никого знакомить, если кто-то может остаться без пары."
   ]
  },
  {
   "cell_type": "code",
   "execution_count": 8,
   "id": "b8af54d5",
   "metadata": {},
   "outputs": [
    {
     "name": "stdout",
     "output_type": "stream",
     "text": [
      "Идеальные пары:\n",
      "Alex и Emma\n",
      "Arthur и Kate\n",
      "John и Kira\n",
      "Peter и Liza\n",
      "Richard и Trisha\n"
     ]
    }
   ],
   "source": [
    "boys = ['Peter', 'Alex', 'John', 'Arthur', 'Richard']\n",
    "girls = ['Kate', 'Liza', 'Kira', 'Emma', 'Trisha']\n",
    "if len(boys) != len(girls):\n",
    "    print('Внимание, кто-то может остаться без пары!')\n",
    "else:\n",
    "    pairs = zip(sorted(boys), sorted(girls))\n",
    "    print('Идеальные пары:')\n",
    "    for pair in pairs:\n",
    "        print(f'{pair[0]} и {pair[1]}')"
   ]
  },
  {
   "cell_type": "markdown",
   "id": "36f3e688",
   "metadata": {},
   "source": [
    "# Задание 4\n",
    "У нас есть список, содержащий информацию о среднедневной температуре в Фаренгейтах за произвольный период по странам (структура данных в примере). Необходимо написать код, который рассчитает среднюю температуру за период в Цельсиях(!) для каждой страны."
   ]
  },
  {
   "cell_type": "code",
   "execution_count": 15,
   "id": "c0d0d626",
   "metadata": {},
   "outputs": [
    {
     "name": "stdout",
     "output_type": "stream",
     "text": [
      "Средняя температура в странах:\n",
      "Thailand - 23.9 °C\n",
      "Germany - 13.8 °C\n",
      "Russia - 3.7 °C\n",
      "Poland - 12.0 °C\n"
     ]
    }
   ],
   "source": [
    "countries_temperature = [\n",
    "    ['Thailand', [75.2, 77, 78.8, 73.4, 68, 75.2, 77]],\n",
    "    ['Germany', [57.2, 55.4, 59, 59, 53.6]],\n",
    "    ['Russia', [35.6, 37.4, 39.2, 41, 42.8, 39.2, 35.6]],\n",
    "    ['Poland', [50, 50, 53.6, 57.2, 55.4, 55.4]]\n",
    "]\n",
    "print('Средняя температура в странах:')\n",
    "for country in countries_temperature:\n",
    "    print(f'{country[0]} - {round((sum(country[1]) / len(country[1]) - 32) / 1.8 , 1)} °C')"
   ]
  },
  {
   "cell_type": "markdown",
   "id": "2b8a156a",
   "metadata": {},
   "source": [
    "# Задание 5\n",
    "Дан поток логов по количеству просмотренных страниц для каждого пользователя. Вам необходимо написать алгоритм, который считает среднее значение просмотров на пользователя. Т. е. надо посчитать отношение суммы всех просмотров к количеству уникальных пользователей."
   ]
  },
  {
   "cell_type": "code",
   "execution_count": 2,
   "id": "b508641a",
   "metadata": {},
   "outputs": [
    {
     "name": "stdout",
     "output_type": "stream",
     "text": [
      "Среднее количество просмотров на уникального пользователя: 23.25\n"
     ]
    }
   ],
   "source": [
    "stream = [\n",
    "    '2018-01-01,user1,3',\n",
    "    '2018-01-07,user1,4',\n",
    "    '2018-03-29,user1,1',\n",
    "    '2018-04-04,user1,13',\n",
    "    '2018-01-05,user2,7',\n",
    "    '2018-06-14,user3,4',\n",
    "    '2018-07-02,user3,10',\n",
    "    '2018-03-21,user4,19',\n",
    "    '2018-03-22,user4,4',\n",
    "    '2018-04-22,user4,8',\n",
    "    '2018-05-03,user4,9',\n",
    "    '2018-05-11,user4,11',\n",
    "]\n",
    "log_list = [] # создаем пустой список для преобразования списка со строками во вложенный список\n",
    "unique_users = [] # создаем пустой список для сохранения уникальных пользователей\n",
    "for log in stream:\n",
    "    log_list.append(log.split(',')) # преобразуем список со строками во вложенный список\n",
    "for record in log_list:\n",
    "    if record[1] not in unique_users:\n",
    "        unique_users.append(record[1]) # проходим по вложенным спискам и добавляем в список unique_users только уникальных пользователей\n",
    "print(f'Среднее количество просмотров на уникального пользователя: {round((sum(int(log[2]) for log in log_list)) / len(unique_users), 2)}') "
   ]
  },
  {
   "cell_type": "code",
   "execution_count": 5,
   "id": "bfd029b5",
   "metadata": {},
   "outputs": [
    {
     "name": "stdout",
     "output_type": "stream",
     "text": [
      "Среднее количество просмотров на уникального пользователя: 23.25\n"
     ]
    }
   ],
   "source": [
    "users_list = []\n",
    "views = 0\n",
    " \n",
    "for el in stream:\n",
    "    splitted_el = el.split(',')\n",
    "    if splitted_el[1] not in users_list:\n",
    "        users_list.append(splitted_el[1])\n",
    "    views += int(splitted_el[2])\n",
    "print(f'Среднее количество просмотров на уникального пользователя: {views/len(users_list)}')"
   ]
  },
  {
   "cell_type": "markdown",
   "id": "006bcc64",
   "metadata": {},
   "source": [
    "# Задание 6\n",
    "Необходимо у пользователя запрашивать набор чисел, разделенных пробелом. В результате в отсортированном порядке должны выводиться числа, которые повторяются во введенной строке более одного раза."
   ]
  },
  {
   "cell_type": "code",
   "execution_count": 19,
   "id": "c5cd3306",
   "metadata": {
    "scrolled": false
   },
   "outputs": [
    {
     "name": "stdout",
     "output_type": "stream",
     "text": [
      "Введите произвольное количество чисел через пробел: 10 15 15 103 200 200 200 1 1 1 1 1 2 2 2\n",
      "1 2 15 200 "
     ]
    }
   ],
   "source": [
    "string = input('Введите произвольное количество чисел через пробел: ')\n",
    "numbers = string.split(' ') # получаем набор чисел от пользователя и преобразуем его в список по разделителю пробел\n",
    "numbers = [int(digit) for digit in numbers] # преобразуем данные в списке в числа\n",
    "unique_numbers = []\n",
    "for digit in numbers:\n",
    "    if numbers.count(digit) > 1 and digit not in unique_numbers:\n",
    "        unique_numbers.append(digit)\n",
    "for unique_digit in sorted(unique_numbers):\n",
    "    print(unique_digit, end = ' ')"
   ]
  }
 ],
 "metadata": {
  "kernelspec": {
   "display_name": "Python 3",
   "language": "python",
   "name": "python3"
  },
  "language_info": {
   "codemirror_mode": {
    "name": "ipython",
    "version": 3
   },
   "file_extension": ".py",
   "mimetype": "text/x-python",
   "name": "python",
   "nbconvert_exporter": "python",
   "pygments_lexer": "ipython3",
   "version": "3.8.8"
  }
 },
 "nbformat": 4,
 "nbformat_minor": 5
}
