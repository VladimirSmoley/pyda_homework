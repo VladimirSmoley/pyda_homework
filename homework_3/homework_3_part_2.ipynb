{
 "cells": [
  {
   "cell_type": "markdown",
   "id": "3cd5de5c",
   "metadata": {},
   "source": [
    "# Задание 1\n",
    "Дана переменная, в которой хранится словарь, содержащий гео-метки для каждого пользователя (пример структуры данных приведен ниже). Вам необходимо написать программу, которая выведет на экран множество уникальных гео-меток всех пользователей."
   ]
  },
  {
   "cell_type": "code",
   "execution_count": 1,
   "id": "4d82656b",
   "metadata": {},
   "outputs": [],
   "source": [
    "ids = {'user1': [213, 213, 213, 15, 213], \n",
    "       'user2': [54, 54, 119, 119, 119], \n",
    "       'user3': [213, 98, 98, 35]}\n"
   ]
  },
  {
   "cell_type": "code",
   "execution_count": 2,
   "id": "554d8d67",
   "metadata": {},
   "outputs": [
    {
     "data": {
      "text/plain": [
       "{15, 35, 54, 98, 119, 213}"
      ]
     },
     "execution_count": 2,
     "metadata": {},
     "output_type": "execute_result"
    }
   ],
   "source": [
    "unique_tags = []  # создаем пустой список для гео-меток\n",
    "for tags in list(ids.values()):  # с помощью list(ids.values()) получаем список значений из словаря ids\n",
    "    unique_tags += tags  # добавляем все гео-метки в список гео-меток\n",
    "set(unique_tags)  # преобразуем список гео-меток в множество, чтобы избавиться от дублей\n"
   ]
  },
  {
   "cell_type": "markdown",
   "id": "5d53cde0",
   "metadata": {},
   "source": [
    "# Задание 2\n",
    "Дана переменная, в которой хранится список поисковых запросов пользователя (пример структуры данных приведен ниже). Вам необходимо написать программу, которая выведет на экран распределение количества слов в запросах в требуемом виде.\n"
   ]
  },
  {
   "cell_type": "code",
   "execution_count": 3,
   "id": "f3eadb32",
   "metadata": {},
   "outputs": [],
   "source": [
    "queries = [\n",
    "    '    смотреть     сериалы     онлайн    без регистрации   ',\n",
    "    'новости   спорта чемпионат европы по футболу',\n",
    "    'афиша кино  ',\n",
    "    'курс ',\n",
    "    'сериалы этим летом для отличного настроения',\n",
    "    'курс по питону от нетологии',\n",
    "    'сериалы про спорт без регистрации',\n",
    "]\n"
   ]
  },
  {
   "cell_type": "code",
   "execution_count": 5,
   "id": "29b8c976",
   "metadata": {},
   "outputs": [
    {
     "name": "stdout",
     "output_type": "stream",
     "text": [
      "Доля запросов с числом слов, равным 1 = 14.29%\n",
      "Доля запросов с числом слов, равным 2 = 14.29%\n",
      "Доля запросов с числом слов, равным 5 = 42.86%\n",
      "Доля запросов с числом слов, равным 6 = 28.57%\n"
     ]
    }
   ],
   "source": [
    "queries_len = [' '.join(query.split()).count(' ') + 1 for query in queries]\n",
    "# с помощью split и join приводим строку к стандартизированному виду (без лишних пробелов перед, между и после слов)\n",
    "# с помощью count(' ') считаем количество пробелов и прибавляем 1, так как слов на одно больше, чем пробелов\n",
    "# получаем список с количеством слов в каждом запросе\n",
    "for i in range(max(queries_len) + 1):\n",
    "    if queries_len.count(i) > 0:\n",
    "        print(f'Доля запросов с числом слов, равным {i} = {(queries_len.count(i) / len(queries)) :.2%}')\n"
   ]
  },
  {
   "cell_type": "markdown",
   "id": "ae7b9e6d",
   "metadata": {},
   "source": [
    "# Задание 3\n",
    "Дана переменная, в которой хранится информация о затратах и доходе рекламных кампаний по различным источникам. Необходимо дополнить исходную структуру показателем ROI, который рассчитаем по формуле: (revenue / cost - 1) * 100\n"
   ]
  },
  {
   "cell_type": "code",
   "execution_count": 6,
   "id": "8e0de6a5",
   "metadata": {},
   "outputs": [],
   "source": [
    "results = {\n",
    "    'vk': {'revenue': 103, 'cost': 98},\n",
    "    'yandex': {'revenue': 179, 'cost': 153},\n",
    "    'facebook': {'revenue': 103, 'cost': 110},\n",
    "    'adwords': {'revenue': 35, 'cost': 34},\n",
    "    'twitter': {'revenue': 11, 'cost': 24},\n",
    "}\n"
   ]
  },
  {
   "cell_type": "code",
   "execution_count": 7,
   "id": "ae1d65cf",
   "metadata": {},
   "outputs": [
    {
     "data": {
      "text/plain": [
       "{'vk': {'revenue': 103, 'cost': 98, 'ROI': 5.1},\n",
       " 'yandex': {'revenue': 179, 'cost': 153, 'ROI': 16.99},\n",
       " 'facebook': {'revenue': 103, 'cost': 110, 'ROI': -6.36},\n",
       " 'adwords': {'revenue': 35, 'cost': 34, 'ROI': 2.94},\n",
       " 'twitter': {'revenue': 11, 'cost': 24, 'ROI': -54.17}}"
      ]
     },
     "execution_count": 7,
     "metadata": {},
     "output_type": "execute_result"
    }
   ],
   "source": [
    "for key in results:\n",
    "    results[key]['ROI'] = round((results[key]['revenue'] / results[key]['cost'] - 1) * 100, 2)\n",
    "results\n"
   ]
  },
  {
   "cell_type": "markdown",
   "id": "db5c4402",
   "metadata": {},
   "source": [
    "# Задание 4\n",
    "Дана переменная, в которой хранится статистика рекламных каналов по объемам продаж (пример структуры данных приведен ниже). Напишите программу, которая возвращает название канала с максимальным объемом продаж.\n"
   ]
  },
  {
   "cell_type": "code",
   "execution_count": 8,
   "id": "1d0add7f",
   "metadata": {},
   "outputs": [],
   "source": [
    "stats = {'facebook': 55, 'yandex': 115, 'vk': 120, 'google': 99, 'email': 42, 'ok': 98}\n"
   ]
  },
  {
   "cell_type": "code",
   "execution_count": 9,
   "id": "0021eabc",
   "metadata": {},
   "outputs": [
    {
     "name": "stdout",
     "output_type": "stream",
     "text": [
      "Максимальный объем продаж через рекламный канал vk\n"
     ]
    }
   ],
   "source": [
    "for key, value in stats.items():  # распаковываем словарь !!! через .items - иначе python не воспринимает ключи/значения\n",
    "    if value == max(list(stats.values())):  # с помощью max(list(stats.values())) находим максимальное значение объема продаж\n",
    "        print(f'Максимальный объем продаж через рекламный канал {key}')\n"
   ]
  },
  {
   "cell_type": "code",
   "execution_count": 10,
   "id": "4e16051d",
   "metadata": {},
   "outputs": [
    {
     "name": "stdout",
     "output_type": "stream",
     "text": [
      "Максимальный объем продаж через рекламный канал vk\n"
     ]
    }
   ],
   "source": [
    "values = list(stats.values())  # в список values записываем все значения из словаря stats\n",
    "print(f'Максимальный объем продаж через рекламный канал {list(stats.keys())[values.index(max(values))]}')\n",
    "\n",
    "# с помощью values.index(max(values)) ищем в списке values индекс элемента с наибольшим значением\n",
    "# с помощью list(stats.keys())[...] получаем все ключи словаря и преобразуем их в список, а потом ище по индексу элемента\n",
    "\n",
    "# насколько корректно переходить от словарей к спискам с учетом того, что в словаре элементы не упорядочены?\n",
    "# или в рамках одной программы номера элементов в list(stats.keys()) и в list(stats.values()) точно будут совпадать?\n"
   ]
  },
  {
   "cell_type": "markdown",
   "id": "af00a8d1",
   "metadata": {},
   "source": [
    "# Задание 5\n",
    "Дан список произвольной длины. Необходимо написать код, который на основе исходного списка составит словарь такого уровня вложенности, какова длина исходного списка.\n"
   ]
  },
  {
   "cell_type": "code",
   "execution_count": 11,
   "id": "3149c25f",
   "metadata": {},
   "outputs": [],
   "source": [
    "my_list = ['a', 'b', 'c', 'd', 'e', 'f']\n"
   ]
  },
  {
   "cell_type": "code",
   "execution_count": 12,
   "id": "1a2806be",
   "metadata": {},
   "outputs": [
    {
     "name": "stdout",
     "output_type": "stream",
     "text": [
      "{'a': {'b': {'c': {'d': {'e': 'f'}}}}}\n"
     ]
    }
   ],
   "source": [
    "i = len(my_list)  # определяем длину исходного списка\n",
    "dict_append = {}  # задаем пустой \"присоединяемый словарь\", который будем присоединять в качестве значения\n",
    "dict_append[my_list[i - 2]] = my_list[i - 1]  # \"присоединяемый словарь\" состоит из двух последних элементов списка\n",
    "while i > 2:\n",
    "    my_dict = {}  # задаем пустой \"основной словарь\" или очищаем его от предыдущей итерации\n",
    "    my_dict[my_list[i - 3]] = dict_append  # по ключу my_list[i - 3] (то есть последний элемент списка исключая 2 последних)\n",
    "    # задаем в качестве значения \"присоединяемый словарь\"\n",
    "    dict_append = my_dict  # обновляем \"присоединяемый словарь\", записывая в него новый \"основной словарь\"\n",
    "    i -= 1  # по убыванию идем от конца (за исключением двух последних элементов) к началу списка\n",
    "print(my_dict)\n"
   ]
  },
  {
   "cell_type": "markdown",
   "id": "0c6dd0d1",
   "metadata": {},
   "source": [
    "# Задание 6\n",
    "Дана книга рецептов с информацией о том, сколько ингредиентов нужно для приготовления блюда в расчете на одну порцию (пример данных представлен ниже). Напишите программу, которая будет запрашивать у пользователя количество порций для приготовления этих блюд и отображать информацию о суммарном количестве требуемых ингредиентов в указанном виде. Внимание! Одинаковые ингридиенты с разными размерностями нужно считать раздельно!\n"
   ]
  },
  {
   "cell_type": "code",
   "execution_count": 13,
   "id": "0e7f9cab",
   "metadata": {},
   "outputs": [],
   "source": [
    "cook_book = {\n",
    "  'салат': [\n",
    "     {'ingridient_name': 'сыр', 'quantity': 50, 'measure': 'гр'},\n",
    "     {'ingridient_name': 'томаты', 'quantity': 2, 'measure': 'шт'},\n",
    "     {'ingridient_name': 'огурцы', 'quantity': 20, 'measure': 'гр'},\n",
    "     {'ingridient_name': 'маслины', 'quantity': 10, 'measure': 'гр'},\n",
    "     {'ingridient_name': 'оливковое масло', 'quantity': 20, 'measure': 'мл'},\n",
    "     {'ingridient_name': 'салат', 'quantity': 10, 'measure': 'гр'},\n",
    "     {'ingridient_name': 'перец', 'quantity': 20, 'measure': 'гр'},\n",
    "     {'ingridient_name': 'оливковое масло', 'quantity': 20, 'measure': 'мл'},\n",
    "     {'ingridient_name': 'оливковое масло', 'quantity': 20, 'measure': 'гр'},\n",
    "    ],\n",
    "  'пицца': [\n",
    "     {'ingridient_name': 'сыр', 'quantity': 20, 'measure': 'гр'},\n",
    "     {'ingridient_name': 'колбаса', 'quantity': 30, 'measure': 'гр'},\n",
    "     {'ingridient_name': 'бекон', 'quantity': 30, 'measure': 'гр'},\n",
    "     {'ingridient_name': 'оливки', 'quantity': 10, 'measure': 'гр'},\n",
    "     {'ingridient_name': 'томаты', 'quantity': 20, 'measure': 'гр'},\n",
    "     {'ingridient_name': 'тесто', 'quantity': 100, 'measure': 'гр'},\n",
    "     {'ingridient_name': 'оливковое масло', 'quantity': 100, 'measure': 'мл'}\n",
    "    ],\n",
    "  'лимонад': [\n",
    "     {'ingridient_name': 'лимон', 'quantity': 1, 'measure': 'шт'},\n",
    "     {'ingridient_name': 'вода', 'quantity': 200, 'measure': 'мл'},\n",
    "     {'ingridient_name': 'сахар', 'quantity': 10, 'measure': 'гр'},\n",
    "     {'ingridient_name': 'лайм', 'quantity': 20, 'measure': 'гр'},\n",
    "    ]\n",
    "}\n"
   ]
  },
  {
   "cell_type": "code",
   "execution_count": 14,
   "id": "8bc8c373",
   "metadata": {},
   "outputs": [
    {
     "name": "stdout",
     "output_type": "stream",
     "text": [
      "Сколько людей придет на ужин? 4\n",
      "Значит нужно купить:\n",
      "Сыр: 280 гр\n",
      "Томаты: 8 шт\n",
      "Огурцы: 80 гр\n",
      "Маслины: 40 гр\n",
      "Оливковое масло: 560 мл\n",
      "Салат: 40 гр\n",
      "Перец: 80 гр\n",
      "Оливковое масло: 80 гр\n",
      "Колбаса: 120 гр\n",
      "Бекон: 120 гр\n",
      "Оливки: 40 гр\n",
      "Томаты: 80 гр\n",
      "Тесто: 400 гр\n",
      "Лимон: 4 шт\n",
      "Вода: 800 мл\n",
      "Сахар: 40 гр\n",
      "Лайм: 80 гр\n"
     ]
    }
   ],
   "source": [
    "product_dict = {}  # задаем пустой словарь для сбора списка продуктов (какие преимущества над списком в данном случае?)\n",
    "number_of_people = int(input('Сколько людей придет на ужин? '))  # получаем информацию о множителе для кол-ва ингредиентов\n",
    "\n",
    "for meal, ingredient_list in cook_book.items():  # разбираем книгу рецпетов на названия блюд и список ингредиентов\n",
    "\n",
    "    for ingredient in ingredient_list:  # берем строку по конкретному ингредиенту из списка ингредиентов\n",
    "        ingredient_with_measure = (ingredient['ingridient_name'], ingredient['measure'])\n",
    "        # задаем кортеж из ингредиента и размерности, чтобы упростить обращение к этой переменной\n",
    "\n",
    "        if ingredient_with_measure in product_dict:  # если ингредиент и размерность уже в списке продуктов\n",
    "            product_dict[ingredient_with_measure] += ingredient['quantity']  # то прибавляем новое значение к текущему\n",
    "        else:\n",
    "            product_dict[ingredient_with_measure] = ingredient['quantity']  # иначе просто записываем новое значение\n",
    "\n",
    "print('Значит нужно купить:')\n",
    "\n",
    "for key, value in product_dict.items():  # разбираем словарь продуктов на ингредиенты и объемы\n",
    "    print(f'{key[0].capitalize()}: {value * number_of_people} {key[1]}')  # выводим ингрединт и кол-во продуктов * кол-во гостей\n"
   ]
  }
 ],
 "metadata": {
  "kernelspec": {
   "display_name": "Python 3",
   "language": "python",
   "name": "python3"
  },
  "language_info": {
   "codemirror_mode": {
    "name": "ipython",
    "version": 3
   },
   "file_extension": ".py",
   "mimetype": "text/x-python",
   "name": "python",
   "nbconvert_exporter": "python",
   "pygments_lexer": "ipython3",
   "version": "3.8.8"
  }
 },
 "nbformat": 4,
 "nbformat_minor": 5
}
