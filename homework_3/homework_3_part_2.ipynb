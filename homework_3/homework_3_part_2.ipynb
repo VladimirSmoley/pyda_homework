{
 "cells": [
  {
   "cell_type": "markdown",
   "id": "4cb55059",
   "metadata": {},
   "source": [
    "# Задание 1\n",
    "Дана переменная, в которой хранится словарь, содержащий гео-метки для каждого пользователя (пример структуры данных приведен ниже). Вам необходимо написать программу, которая выведет на экран множество уникальных гео-меток всех пользователей."
   ]
  },
  {
   "cell_type": "code",
   "execution_count": null,
   "id": "76944a29",
   "metadata": {},
   "outputs": [],
   "source": [
    "ids = {'user1': [213, 213, 213, 15, 213], \n",
    "       'user2': [54, 54, 119, 119, 119], \n",
    "       'user3': [213, 98, 98, 35]}\n"
   ]
  },
  {
   "cell_type": "code",
   "execution_count": null,
   "id": "2427f815",
   "metadata": {},
   "outputs": [],
   "source": [
    "unique_tags = []  # создаем пустой список для гео-меток\n",
    "for tags in list(ids.values()):  # с помощью list(ids.values()) получаем список значений из словаря ids\n",
    "    unique_tags += tags  # добавляем все гео-метки в список гео-меток\n",
    "set(unique_tags)  # преобразуем список гео-меток в множество, чтобы избавиться от дублей\n"
   ]
  },
  {
   "cell_type": "markdown",
   "id": "a853561e",
   "metadata": {},
   "source": [
    "# Задание 2\n",
    "Дана переменная, в которой хранится список поисковых запросов пользователя (пример структуры данных приведен ниже). Вам необходимо написать программу, которая выведет на экран распределение количества слов в запросах в требуемом виде."
   ]
  },
  {
   "cell_type": "code",
   "execution_count": null,
   "id": "cba920b5",
   "metadata": {},
   "outputs": [],
   "source": [
    "queries = [\n",
    "    '    смотреть     сериалы     онлайн    без регистрации   ',\n",
    "    'новости   спорта чемпионат европы по футболу',\n",
    "    'афиша кино  ',\n",
    "    'курс ',\n",
    "    'сериалы этим летом для отличного настроения',\n",
    "    'курс по питону от нетологии',\n",
    "    'сериалы про спорт без регистрации',\n",
    "]\n"
   ]
  },
  {
   "cell_type": "code",
   "execution_count": null,
   "id": "4afc545a",
   "metadata": {},
   "outputs": [],
   "source": [
    "queries_len = [' '.join(query.split()).count(' ') + 1 for query in queries]\n",
    "# с помощью split и join приводим строку к стандартизированному виду (без лишних пробелов перед, между и после слов)\n",
    "# с помощью count(' ') считаем количество пробелов и прибавляем 1, так как слов на одно больше, чем пробелов\n",
    "# получаем список с количеством слов в каждом запросе\n",
    "for i in range(max(queries_len) + 1):\n",
    "    if queries_len.count(i) > 0:\n",
    "        print(f'Доля запросов, с числом слов, равным {i} = {(queries_len.count(i) / len(queries)) :.2%}')\n"
   ]
  },
  {
   "cell_type": "markdown",
   "id": "a35d6339",
   "metadata": {},
   "source": [
    "# Задание 3\n",
    "Дана переменная, в которой хранится информация о затратах и доходе рекламных кампаний по различным источникам. Необходимо дополнить исходную структуру показателем ROI, который рассчитаем по формуле: (revenue / cost - 1) * 100"
   ]
  },
  {
   "cell_type": "code",
   "execution_count": null,
   "id": "36ae9beb",
   "metadata": {},
   "outputs": [],
   "source": [
    "results = {\n",
    "    'vk': {'revenue': 103, 'cost': 98},\n",
    "    'yandex': {'revenue': 179, 'cost': 153},\n",
    "    'facebook': {'revenue': 103, 'cost': 110},\n",
    "    'adwords': {'revenue': 35, 'cost': 34},\n",
    "    'twitter': {'revenue': 11, 'cost': 24},\n",
    "}\n"
   ]
  },
  {
   "cell_type": "code",
   "execution_count": null,
   "id": "6b670e4c",
   "metadata": {},
   "outputs": [],
   "source": [
    "for key in results:\n",
    "    results[key]['ROI'] = round((results[key]['revenue'] / results[key]['cost'] - 1) * 100, 2)\n",
    "results\n"
   ]
  },
  {
   "cell_type": "markdown",
   "id": "703ca241",
   "metadata": {},
   "source": [
    "# Задание 4\n",
    "Дана переменная, в которой хранится статистика рекламных каналов по объемам продаж (пример структуры данных приведен ниже). Напишите программу, которая возвращает название канала с максимальным объемом продаж."
   ]
  },
  {
   "cell_type": "code",
   "execution_count": null,
   "id": "3fc7931a",
   "metadata": {},
   "outputs": [],
   "source": [
    "stats = {'facebook': 55, 'yandex': 115, 'vk': 120, 'google': 99, 'email': 42, 'ok': 98}"
   ]
  },
  {
   "cell_type": "code",
   "execution_count": null,
   "id": "0c16f66e",
   "metadata": {},
   "outputs": [],
   "source": [
    "for key, value in stats.items():  # распаковываем словарь !!! через .items - иначе python не воспринимает ключи/значения\n",
    "    if value == max(list(stats.values())):  # с помощью max(list(stats.values())) находим максимальное значение объема продаж\n",
    "        print(f'Максимальный объем продаж через рекламный канал {key}')\n"
   ]
  },
  {
   "cell_type": "code",
   "execution_count": null,
   "id": "bb4c6332",
   "metadata": {},
   "outputs": [],
   "source": [
    "values = list(stats.values())  # в список values записываем все значения из словаря stats\n",
    "print(f'Максимальный объем продаж через рекламный канал {list(stats.keys())[values.index(max(values))]}')\n",
    "\n",
    "# с помощью values.index(max(values)) ищем в списке values индекс элемента с наибольшим значением\n",
    "# с помощью list(stats.keys())[...] получаем все ключи словаря и преобразуем их в список, а потом ище по индексу элемента\n",
    "\n",
    "# насколько корректно переходить от словарей к спискам с учетом того, что в словаре элементы не упорядочены?\n",
    "# или в рамках одной программы номера элементов в list(stats.keys()) и в list(stats.values()) точно будут совпадать?\n"
   ]
  },
  {
   "cell_type": "markdown",
   "id": "498a1e84",
   "metadata": {},
   "source": [
    "# Задание 5\n",
    "Дан список произвольной длины. Необходимо написать код, который на основе исходного списка составит словарь такого уровня вложенности, какова длина исхондого списка."
   ]
  },
  {
   "cell_type": "code",
   "execution_count": 53,
   "id": "eac18157",
   "metadata": {},
   "outputs": [],
   "source": [
    "my_list = ['a', 'b', 'c', 'd', 'e', 'f']\n"
   ]
  },
  {
   "cell_type": "code",
   "execution_count": 54,
   "id": "3026d57c",
   "metadata": {},
   "outputs": [
    {
     "name": "stdout",
     "output_type": "stream",
     "text": [
      "{'a': {'b': {'c': {'d': {'e': 'f'}}}}}\n"
     ]
    }
   ],
   "source": [
    "i = len(my_list)  # определяем длину исходного списка\n",
    "dict_append = {}  # задаем пустой \"присоединяемый словарь\", который будем присоединять в качестве значения\n",
    "dict_append[my_list[i - 2]] = my_list[i - 1]  # \"присоединяемый словарь\" состоит из двух последних элементов списка\n",
    "while i > 2:\n",
    "    my_dict = {}  # задаем пустой \"основной словарь\" или очищаем его от предыдущей итерации\n",
    "    my_dict[my_list[i - 3]] = dict_append  # по ключу my_list[i - 3] (то есть последний элемент списка исключая 2 последних)\n",
    "    # задаем в качестве значения \"присоединяемый словарь\"\n",
    "    dict_append = my_dict  # обновляем \"присоединяемый словарь\", записывая в него новый \"основной словарь\"\n",
    "    i -= 1  # по убыванию идем от конца (за исключением двух последних элементов) к началу списка\n",
    "print(my_dict)\n"
   ]
  },
  {
   "cell_type": "markdown",
   "id": "6b47dda9",
   "metadata": {},
   "source": [
    "# Задание 6\n",
    "Дана книга рецептов с информацией о том, сколько ингредиентов нужно для приготовления блюда в расчете на одну порцию (пример данных представлен ниже).\n",
    "Напишите программу, которая будет запрашивать у пользователя количество порций для приготовления этих блюд и отображать информацию о суммарном количестве требуемых ингредиентов в указанном виде.\n",
    "Внимание! Одинаковые ингридиенты с разными размерностями нужно считать раздельно!"
   ]
  },
  {
   "cell_type": "code",
   "execution_count": 57,
   "id": "0c970d0f",
   "metadata": {},
   "outputs": [],
   "source": [
    "cook_book = {\n",
    "  'салат': [\n",
    "     {'ingridient_name': 'сыр', 'quantity': 50, 'measure': 'гр'},\n",
    "     {'ingridient_name': 'томаты', 'quantity': 2, 'measure': 'шт'},\n",
    "     {'ingridient_name': 'огурцы', 'quantity': 20, 'measure': 'гр'},\n",
    "     {'ingridient_name': 'маслины', 'quantity': 10, 'measure': 'гр'},\n",
    "     {'ingridient_name': 'оливковое масло', 'quantity': 20, 'measure': 'мл'},\n",
    "     {'ingridient_name': 'салат', 'quantity': 10, 'measure': 'гр'},\n",
    "     {'ingridient_name': 'перец', 'quantity': 20, 'measure': 'гр'},\n",
    "     {'ingridient_name': 'оливковое масло', 'quantity': 20, 'measure': 'мл'},\n",
    "     {'ingridient_name': 'оливковое масло', 'quantity': 20, 'measure': 'гр'},\n",
    "    ],\n",
    "  'пицца': [\n",
    "     {'ingridient_name': 'сыр', 'quantity': 20, 'measure': 'гр'},\n",
    "     {'ingridient_name': 'колбаса', 'quantity': 30, 'measure': 'гр'},\n",
    "     {'ingridient_name': 'бекон', 'quantity': 30, 'measure': 'гр'},\n",
    "     {'ingridient_name': 'оливки', 'quantity': 10, 'measure': 'гр'},\n",
    "     {'ingridient_name': 'томаты', 'quantity': 20, 'measure': 'гр'},\n",
    "     {'ingridient_name': 'тесто', 'quantity': 100, 'measure': 'гр'},\n",
    "     {'ingridient_name': 'оливковое масло', 'quantity': 100, 'measure': 'мл'}\n",
    "    ],\n",
    "  'лимонад': [\n",
    "     {'ingridient_name': 'лимон', 'quantity': 1, 'measure': 'шт'},\n",
    "     {'ingridient_name': 'вода', 'quantity': 200, 'measure': 'мл'},\n",
    "     {'ingridient_name': 'сахар', 'quantity': 10, 'measure': 'гр'},\n",
    "     {'ingridient_name': 'лайм', 'quantity': 20, 'measure': 'гр'},\n",
    "    ]\n",
    "}\n"
   ]
  },
  {
   "cell_type": "code",
   "execution_count": 61,
   "id": "beca0409",
   "metadata": {},
   "outputs": [
    {
     "name": "stdout",
     "output_type": "stream",
     "text": [
      "Сколько людей придет на ужин? 4\n",
      "Значит нужно купить:\n",
      "Сыр: 280 гр\n",
      "Томаты: 8 шт\n",
      "Огурцы: 80 гр\n",
      "Маслины: 40 гр\n",
      "Оливковое масло: 560 мл\n",
      "Салат: 40 гр\n",
      "Перец: 80 гр\n",
      "Оливковое масло: 80 гр\n",
      "Колбаса: 120 гр\n",
      "Бекон: 120 гр\n",
      "Оливки: 40 гр\n",
      "Томаты: 80 гр\n",
      "Тесто: 400 гр\n",
      "Лимон: 4 шт\n",
      "Вода: 800 мл\n",
      "Сахар: 40 гр\n",
      "Лайм: 80 гр\n"
     ]
    }
   ],
   "source": [
    "product_dict = {}  # задаем пустой словарь для сбора списка продуктов (какие преимущества над списком в данном случае?)\n",
    "number_of_people = int(input('Сколько людей придет на ужин? '))  # получаем информацию о множителе для кол-ва ингредиентов\n",
    "\n",
    "for meal, ingredient_list in cook_book.items():  # разбираем книгу рецпетов на названия блюд и список ингредиентов\n",
    "\n",
    "    for ingredient in ingredient_list:  # берем строку по конкретному ингредиенту из списка ингредиентов\n",
    "        ingredient_with_measure = (ingredient['ingridient_name'], ingredient['measure'])\n",
    "        # задаем кортеж из ингредиента и размерности, чтобы упростить обращение к этой переменной\n",
    "\n",
    "        if ingredient_with_measure in product_dict:  # если ингредиент и размерность уже в списке продуктов\n",
    "            product_dict[ingredient_with_measure] += ingredient['quantity']  # то прибавляем новое значение к текущему\n",
    "        else:\n",
    "            product_dict[ingredient_with_measure] = ingredient['quantity']  # иначе просто записываем новое значение\n",
    "\n",
    "print('Значит нужно купить:')\n",
    "\n",
    "for key, value in product_dict.items():  # разбираем словарь продуктов на ингредиенты и объемы\n",
    "    print(f'{key[0].capitalize()}: {value * number_of_people} {key[1]}')  # выводим ингрединт и кол-во продуктов * кол-во гостей\n"
   ]
  }
 ],
 "metadata": {
  "kernelspec": {
   "display_name": "Python 3",
   "language": "python",
   "name": "python3"
  },
  "language_info": {
   "codemirror_mode": {
    "name": "ipython",
    "version": 3
   },
   "file_extension": ".py",
   "mimetype": "text/x-python",
   "name": "python",
   "nbconvert_exporter": "python",
   "pygments_lexer": "ipython3",
   "version": "3.8.8"
  }
 },
 "nbformat": 4,
 "nbformat_minor": 5
}
