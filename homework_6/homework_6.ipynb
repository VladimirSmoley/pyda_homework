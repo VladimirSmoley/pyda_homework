{
 "cells": [
  {
   "cell_type": "markdown",
   "id": "c563876b",
   "metadata": {},
   "source": [
    "### Задание 1\n",
    "Печатные газеты использовали свой формат дат для каждого выпуска. Для каждой газеты из списка напишите формат указанной даты для перевода в объект datetime:\n",
    "- The Moscow Times - Wednesday, October 2, 2002\n",
    "- The Guardian - Friday, 11.10.13\n",
    "- Daily News - Thursday, 18 August 1977"
   ]
  },
  {
   "cell_type": "code",
   "execution_count": 1,
   "id": "fb3fbe9f",
   "metadata": {},
   "outputs": [],
   "source": [
    "from datetime import datetime\n"
   ]
  },
  {
   "cell_type": "code",
   "execution_count": 2,
   "id": "5ecbc787",
   "metadata": {},
   "outputs": [],
   "source": [
    "from datetime import timedelta\n"
   ]
  },
  {
   "cell_type": "code",
   "execution_count": 3,
   "id": "62b92748",
   "metadata": {},
   "outputs": [
    {
     "data": {
      "text/plain": [
       "datetime.datetime(2002, 10, 2, 0, 0)"
      ]
     },
     "execution_count": 3,
     "metadata": {},
     "output_type": "execute_result"
    }
   ],
   "source": [
    "datetime_mt = datetime.strptime('Wednesday, October 2, 2002', '%A, %B %d, %Y')\n",
    "datetime_mt\n"
   ]
  },
  {
   "cell_type": "code",
   "execution_count": 4,
   "id": "8162ed69",
   "metadata": {},
   "outputs": [
    {
     "data": {
      "text/plain": [
       "datetime.datetime(2013, 10, 11, 0, 0)"
      ]
     },
     "execution_count": 4,
     "metadata": {},
     "output_type": "execute_result"
    }
   ],
   "source": [
    "datetime_g = datetime.strptime('Friday, 11.10.13', '%A, %d.%m.%y')\n",
    "datetime_g\n"
   ]
  },
  {
   "cell_type": "code",
   "execution_count": 5,
   "id": "7025e0e9",
   "metadata": {},
   "outputs": [
    {
     "data": {
      "text/plain": [
       "datetime.datetime(1977, 8, 18, 0, 0)"
      ]
     },
     "execution_count": 5,
     "metadata": {},
     "output_type": "execute_result"
    }
   ],
   "source": [
    "datetime_dn = datetime.strptime('Thursday, 18 August 1977', '%A, %d %B %Y')\n",
    "datetime_dn\n"
   ]
  },
  {
   "cell_type": "markdown",
   "id": "0b8750ea",
   "metadata": {},
   "source": [
    "### Задание 2\n",
    "Дан поток дат в формате YYYY-MM-DD, в которых встречаются некорректные значения:<br>\n",
    "stream = ['2018-04-02', '2018-02-29', '2018-19-02']\n",
    "\n",
    "Напишите функцию, которая проверяет эти даты на корректность. Т. е. для каждой даты возвращает True (дата корректна) или False (некорректная дата)."
   ]
  },
  {
   "cell_type": "code",
   "execution_count": 6,
   "id": "1d544dff",
   "metadata": {},
   "outputs": [],
   "source": [
    "stream = ['2018-04-02', '2018-02-29', '2018-19-02']\n"
   ]
  },
  {
   "cell_type": "code",
   "execution_count": 7,
   "id": "22e324c8",
   "metadata": {},
   "outputs": [],
   "source": [
    "def date_check(stream):\n",
    "    \"\"\"\n",
    "    проверяет соответствие дат из списка формату YYYY-MM-DD и возвращает true для правильных дат, false - для неправильных\n",
    "    \"\"\"\n",
    "    stream_check = []\n",
    "    \n",
    "    for date in stream:\n",
    "        try:\n",
    "            datetime.strptime(date, '%Y-%m-%d')\n",
    "            stream_check.append(True)\n",
    "        except ValueError:\n",
    "            stream_check.append(False)\n",
    "    print(stream_check)\n"
   ]
  },
  {
   "cell_type": "code",
   "execution_count": 8,
   "id": "2885098e",
   "metadata": {
    "scrolled": true
   },
   "outputs": [
    {
     "name": "stdout",
     "output_type": "stream",
     "text": [
      "[True, False, False]\n"
     ]
    }
   ],
   "source": [
    "date_check(stream)"
   ]
  },
  {
   "cell_type": "markdown",
   "id": "ca12e07c",
   "metadata": {},
   "source": [
    "### Задание 3\n",
    "Напишите функцию date_range, которая возвращает список дат за период от start_date до end_date. Даты должны вводиться в формате YYYY-MM-DD. В случае неверного формата или при start_date > end_date должен возвращаться пустой список."
   ]
  },
  {
   "cell_type": "code",
   "execution_count": 9,
   "id": "1421b338",
   "metadata": {},
   "outputs": [],
   "source": [
    "def date_range():\n",
    "    \"\"\"\n",
    "    функция возвращает список дат в периоде, введенном пользователем\n",
    "    \"\"\"\n",
    "    date_list = []\n",
    "    \n",
    "    try:\n",
    "        start_date = datetime.strptime(input('Введите первый день периода в формате YYYY-MM-DD: '), '%Y-%m-%d')\n",
    "        end_date = datetime.strptime(input('Введите последний день периода в формате YYYY-MM-DD: '), '%Y-%m-%d')\n",
    "        if start_date > end_date:\n",
    "            print(date_list)\n",
    "        else:\n",
    "            current_date = start_date\n",
    "            \n",
    "            while current_date <= end_date:\n",
    "                print(current_date.strftime('%Y-%m-%d'))\n",
    "                current_date += timedelta(days=1)\n",
    "    \n",
    "    except ValueError:\n",
    "        print(date_list)\n"
   ]
  },
  {
   "cell_type": "code",
   "execution_count": 10,
   "id": "4c5e4410",
   "metadata": {},
   "outputs": [
    {
     "name": "stdout",
     "output_type": "stream",
     "text": [
      "Введите первый день периода в формате YYYY-MM-DD: 2021-08-01\n",
      "Введите последний день периода в формате YYYY-MM-DD: 2021-08-08\n",
      "2021-08-01\n",
      "2021-08-02\n",
      "2021-08-03\n",
      "2021-08-04\n",
      "2021-08-05\n",
      "2021-08-06\n",
      "2021-08-07\n",
      "2021-08-08\n"
     ]
    }
   ],
   "source": [
    "date_range()\n"
   ]
  },
  {
   "cell_type": "markdown",
   "id": "6e220855",
   "metadata": {},
   "source": [
    "### Задание 4"
   ]
  },
  {
   "cell_type": "code",
   "execution_count": 28,
   "id": "4625b2ee",
   "metadata": {},
   "outputs": [],
   "source": [
    "# Ваш коллега прислал код функции:\n",
    "\n",
    "DEFAULT_USER_COUNT = 3\n",
    "\n",
    "def delete_and_return_last_user(region, default_list=['A100', 'A101', 'A102']):\n",
    "    \"\"\"\n",
    "    Удаляет из списка default_list последнего пользователя\n",
    "    и возвращает ID нового последнего пользователя.\n",
    "    \"\"\"\n",
    "    element_to_delete = default_list[-1]\n",
    "    default_list.remove(element_to_delete)\n",
    "    return default_list[DEFAULT_USER_COUNT - 2]\n"
   ]
  },
  {
   "cell_type": "code",
   "execution_count": 29,
   "id": "f96dfeb8",
   "metadata": {
    "scrolled": true
   },
   "outputs": [
    {
     "data": {
      "text/plain": [
       "'A101'"
      ]
     },
     "execution_count": 29,
     "metadata": {},
     "output_type": "execute_result"
    }
   ],
   "source": [
    "# При однократном вызове этой функции все работает корректно:\n",
    "delete_and_return_last_user(1)\n"
   ]
  },
  {
   "cell_type": "code",
   "execution_count": 24,
   "id": "10decd09",
   "metadata": {},
   "outputs": [],
   "source": [
    "# Однако, при повторном вызове получается ошибка IndexError: list index out of range.\n",
    "\n",
    "# Задание:\n",
    "\n",
    "# 1) Что значит ошибка list index out of range?\n",
    "# 2) Почему при первом запуске функция работает корректно, а при втором - нет?"
   ]
  },
  {
   "cell_type": "code",
   "execution_count": null,
   "id": "b7fd26ea",
   "metadata": {},
   "outputs": [],
   "source": [
    "# Решение:\n",
    "\n",
    "# 1) ошибка list index out of range значит, что в списке не найдем элемент с указанным индексом\n",
    "# 2) при втором запуске возникает ошибка, так как количество пользователей (длина списка) не рассчитывается в функции,\n",
    "# а задается заранее. То есть во время первого запуска мы изменили наш список - в нем теперь два пользователя,\n",
    "# и после удаления еще одного (во время второго запуска) мы пытаемся вывести ID пользователя, который был бы последним\n",
    "# в списке с тремя элементами, а у нас уже два элемента"
   ]
  }
 ],
 "metadata": {
  "kernelspec": {
   "display_name": "Python 3",
   "language": "python",
   "name": "python3"
  },
  "language_info": {
   "codemirror_mode": {
    "name": "ipython",
    "version": 3
   },
   "file_extension": ".py",
   "mimetype": "text/x-python",
   "name": "python",
   "nbconvert_exporter": "python",
   "pygments_lexer": "ipython3",
   "version": "3.8.8"
  }
 },
 "nbformat": 4,
 "nbformat_minor": 5
}
