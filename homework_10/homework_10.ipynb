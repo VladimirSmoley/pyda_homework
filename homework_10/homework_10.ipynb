{
 "cells": [
  {
   "cell_type": "markdown",
   "id": "446280f6",
   "metadata": {},
   "source": [
    "# Домашнее задание к лекции \"Библиотека Pandas\""
   ]
  },
  {
   "cell_type": "code",
   "execution_count": null,
   "id": "a6d43613",
   "metadata": {},
   "outputs": [],
   "source": [
    "import pandas as pd"
   ]
  },
  {
   "cell_type": "markdown",
   "id": "9066c481",
   "metadata": {},
   "source": [
    "## Задание 1\n",
    "\n",
    "Скачайте с сайта https://grouplens.org/datasets/movielens/ датасет любого размера. Определите какому фильму было выставлено больше всего оценок 5.0."
   ]
  },
  {
   "cell_type": "code",
   "execution_count": null,
   "id": "b228fcd7",
   "metadata": {},
   "outputs": [],
   "source": [
    "ratings = pd.read_csv('ratings.csv')\n",
    "movies = pd.read_csv('movies.csv')\n"
   ]
  },
  {
   "cell_type": "code",
   "execution_count": null,
   "id": "39f0a924",
   "metadata": {
    "scrolled": false
   },
   "outputs": [],
   "source": [
    "ratings = ratings.merge(movies, on='movieId', how='left')\n",
    "ratings[ ratings['rating'] == 5.0 ].value_counts('title').head(5)\n"
   ]
  },
  {
   "cell_type": "code",
   "execution_count": null,
   "id": "ab923061",
   "metadata": {},
   "outputs": [],
   "source": [
    "ratings = ratings[ ratings['rating'] == 5.0 ]\n",
    "ratings = ratings.merge(movies, on='movieId', how='left')\n",
    "ratings.value_counts('title').head(5)\n",
    "# merging dataframes requires a lot of resources, so it's better to filter and then to merge\n"
   ]
  },
  {
   "cell_type": "markdown",
   "id": "463568ea",
   "metadata": {},
   "source": [
    "## Задание 2\n",
    "\n",
    "По данным файла power.csv посчитайте суммарное потребление стран Прибалтики (Латвия, Литва и Эстония) категорий 4, 12 и 21 за период с 2005 по 2010 года. Не учитывайте в расчетах отрицательные значения quantity."
   ]
  },
  {
   "cell_type": "code",
   "execution_count": null,
   "id": "24a59735",
   "metadata": {},
   "outputs": [],
   "source": [
    "power = pd.read_csv('power.csv')\n",
    "power.head(10)\n"
   ]
  },
  {
   "cell_type": "code",
   "execution_count": null,
   "id": "eecb2a6b",
   "metadata": {},
   "outputs": [],
   "source": [
    "power['country'].unique()\n",
    "power[\n",
    "     ((power['country'] == 'Latvia') | (power['country'] == 'Lithuania') | (power['country'] == 'Estonia')) &  # Baltic states\n",
    "     ((power['category'] == 4) | (power['category'] == 12) | (power['category'] == 21)) &  # Categories\n",
    "     ((power['year'] >= 2005) & (power['year'] <= 2010)) &  # Years\n",
    "     (power['quantity'] > 0)  # Positive values\n",
    "     ]['quantity'].sum()\n",
    "# by using ['quantity'] we turn Dataframe into Series => we get single value as a result of the .sum()\n"
   ]
  },
  {
   "cell_type": "code",
   "execution_count": null,
   "id": "6b5d55db",
   "metadata": {},
   "outputs": [],
   "source": [
    "power['country'].unique()\n",
    "power[\n",
    "     ((power['country'].isin(['Latvia', 'Lithuania', 'Estonia']))) &  # Baltic states\n",
    "     ((power['category'].isin([4, 12, 21]))) &  # Categories\n",
    "     ((power['year'].between(2005, 2010, inclusive = 'both'))) &  # Years\n",
    "     (power['quantity'] > 0)  # Positive values\n",
    "     ]['quantity'].sum()\n",
    "# by using ['quantity'] we turn Dataframe into Series => we get single value as a result of the .sum()\n",
    "# .isin() and .between() may be used to shorten some parts of the code\n"
   ]
  },
  {
   "cell_type": "markdown",
   "id": "52cbb96a",
   "metadata": {},
   "source": [
    "## Задание 3\n",
    "\n",
    "Выберите страницу любого сайта с табличными данными. Импортируйте таблицы в pandas dataframe.\n",
    "Примеры страниц:  \n",
    "https://fortrader.org/quotes  \n",
    "https://www.finanz.ru/valyuty/v-realnom-vremeni\n",
    "\n"
   ]
  },
  {
   "cell_type": "code",
   "execution_count": null,
   "id": "e661a7d0",
   "metadata": {},
   "outputs": [],
   "source": [
    "currencies = pd.read_html('https://www.finanz.ru/valyuty/v-realnom-vremeni', attrs = {'class' : 'quote_list'}, encoding='utf-8')\n",
    "currencies[0]\n"
   ]
  }
 ],
 "metadata": {
  "kernelspec": {
   "display_name": "Python 3",
   "language": "python",
   "name": "python3"
  },
  "language_info": {
   "codemirror_mode": {
    "name": "ipython",
    "version": 3
   },
   "file_extension": ".py",
   "mimetype": "text/x-python",
   "name": "python",
   "nbconvert_exporter": "python",
   "pygments_lexer": "ipython3",
   "version": "3.8.8"
  }
 },
 "nbformat": 4,
 "nbformat_minor": 5
}
