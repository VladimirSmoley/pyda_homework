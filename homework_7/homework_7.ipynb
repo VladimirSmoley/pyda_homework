{
 "cells": [
  {
   "cell_type": "markdown",
   "id": "75649e06",
   "metadata": {},
   "source": [
    "### Задание 1\n",
    "Напишите функцию, которая возвращает название валюты (поле ‘Name’) с максимальным значением курса с помощью сервиса https://www.cbr-xml-daily.ru/daily_json.js"
   ]
  },
  {
   "cell_type": "code",
   "execution_count": 1,
   "id": "38ed67a8",
   "metadata": {},
   "outputs": [],
   "source": [
    "from libs.exchange import Rate\n"
   ]
  },
  {
   "cell_type": "code",
   "execution_count": 2,
   "id": "2f551c93",
   "metadata": {},
   "outputs": [],
   "source": [
    "def max_rate():\n",
    "    currency_list = [(item['Name'], item['Value']) for item in Rate().exchange_rates().values()]\n",
    "    currency_list.sort(key = lambda currency: currency[1], reverse = True)\n",
    "    return(currency_list[0][0])\n"
   ]
  },
  {
   "cell_type": "code",
   "execution_count": 3,
   "id": "fa4d172d",
   "metadata": {},
   "outputs": [
    {
     "data": {
      "text/plain": [
       "'СДР (специальные права заимствования)'"
      ]
     },
     "execution_count": 3,
     "metadata": {},
     "output_type": "execute_result"
    }
   ],
   "source": [
    "max_rate()\n"
   ]
  },
  {
   "cell_type": "markdown",
   "id": "05fc17de",
   "metadata": {},
   "source": [
    "### Задание 2\n",
    "Добавьте в класс Rate параметр diff (со значениями True или False), который в случае значения True в методах курсов валют (eur, usd и т.д.) будет возвращать не курс валюты, а изменение по сравнению в прошлым значением. Считайте, self.diff будет принимать значение True только при возврате значения курса. При отображении всей информации о валюте он не используется."
   ]
  },
  {
   "cell_type": "code",
   "execution_count": 4,
   "id": "04c98301",
   "metadata": {},
   "outputs": [],
   "source": [
    "import requests\n"
   ]
  },
  {
   "cell_type": "code",
   "execution_count": 5,
   "id": "1ccb430c",
   "metadata": {},
   "outputs": [],
   "source": [
    "class Rate:\n",
    "    def __init__(self, format_ = 'value', diff_ = False):\n",
    "        self.format = format_\n",
    "        self.diff = diff_\n",
    "              \n",
    "    def exchange_rates(self):\n",
    "        \"\"\"\n",
    "        Возвращает ответ сервиса с информацией о валютах в виде:\n",
    "        \n",
    "        {\n",
    "            'AMD': {\n",
    "                'CharCode': 'AMD',\n",
    "                'ID': 'R01060',\n",
    "                'Name': 'Армянских драмов',\n",
    "                'Nominal': 100,\n",
    "                'NumCode': '051',\n",
    "                'Previous': 14.103,\n",
    "                'Value': 14.0879\n",
    "                },\n",
    "            ...\n",
    "        }\n",
    "        \"\"\"\n",
    "        self.r = requests.get('https://www.cbr-xml-daily.ru/daily_json.js')\n",
    "        return self.r.json()['Valute']\n",
    "    \n",
    "    def make_format(self, currency):\n",
    "        \"\"\"\n",
    "        Возвращает информацию о валюте currency в трех вариантах:\n",
    "        - полная информация о валюте при self.format == 'full':\n",
    "        Rate('full').make_format('EUR')\n",
    "        {\n",
    "            'CharCode': 'EUR',\n",
    "            'ID': 'R01239',\n",
    "            'Name': 'Евро',\n",
    "            'Nominal': 1,\n",
    "            'NumCode': '978',\n",
    "            'Previous': 79.6765,\n",
    "            'Value': 79.4966\n",
    "        }\n",
    "        - курс валюты при self.format == 'value':\n",
    "        Rate('value').make_format('EUR')\n",
    "        79.4966\n",
    "        - разницу между текущим и прошлым значением при self.diff == True:\n",
    "        -0.1799\n",
    "        \"\"\"\n",
    "        response = self.exchange_rates()\n",
    "        \n",
    "        if currency in response:\n",
    "            if self.diff == False:\n",
    "                if self.format == 'full':\n",
    "                    return response[currency]\n",
    "\n",
    "                if self.format == 'value':\n",
    "                    return response[currency]['Value']\n",
    "                \n",
    "                return 'Error'\n",
    "            else:\n",
    "                return ((response[currency]['Value'] * 10 ** 6 - response[currency]['Previous'] * 10 ** 6) / 10 ** 6)\n",
    "    \n",
    "    def eur(self):\n",
    "        \"\"\"Возвращает курс евро на сегодня в формате self.format\"\"\"\n",
    "        return self.make_format('EUR')\n",
    "    \n",
    "    def usd(self):\n",
    "        \"\"\"Возвращает курс доллара на сегодня в формате self.format\"\"\"\n",
    "        return self.make_format('USD')\n",
    "    \n",
    "    def brl(self):\n",
    "        \"\"\"Возвращает курс бразильского реала на сегодня в формате self.format\"\"\"\n",
    "        return self.make_format('BRL')\n"
   ]
  },
  {
   "cell_type": "code",
   "execution_count": 6,
   "id": "250c2932",
   "metadata": {},
   "outputs": [
    {
     "data": {
      "text/plain": [
       "0.494"
      ]
     },
     "execution_count": 6,
     "metadata": {},
     "output_type": "execute_result"
    }
   ],
   "source": [
    "Rate(diff_ = True).eur()\n"
   ]
  },
  {
   "cell_type": "markdown",
   "id": "891279d2",
   "metadata": {},
   "source": [
    "### Задание 3\n",
    "Напишите класс Designer, который учитывает количество международных премий. Подсказки в коде занятия в разделе “Домашнее задание задача 3”.\n",
    "\n",
    "#### Комментарий по классу Designer:\n",
    "Напишите класс Designer, который учитывает количество международных премий для дизайнеров (из презентации: “Повышение на 1 грейд за каждые 7 баллов. Получение международной премии – это +2 балла”). Считайте, что при выходе на работу сотрудник уже имеет две премии и их количество не меняется со стажем (конечно если хотите это можно вручную менять).\n",
    "\n",
    "Класс Designer пишется по аналогии с классом Developer из материалов занятия."
   ]
  },
  {
   "cell_type": "code",
   "execution_count": 7,
   "id": "2cb029f8",
   "metadata": {},
   "outputs": [],
   "source": [
    "class Employee:\n",
    "    def __init__(self, name, seniority):\n",
    "        self.name = name\n",
    "        self.seniority = seniority\n",
    "        \n",
    "        self.grade = 1\n",
    "    \n",
    "    def grade_up(self):\n",
    "        \"\"\"Повышает уровень сотрудника\"\"\"\n",
    "        self.grade += 1\n",
    "    \n",
    "    def publish_grade(self):\n",
    "        \"\"\"Публикация результатов аккредитации сотрудников\"\"\"\n",
    "        print(self.name, self.grade)\n",
    "    \n",
    "    def check_if_it_is_time_for_upgrade(self):\n",
    "        pass\n"
   ]
  },
  {
   "cell_type": "code",
   "execution_count": 8,
   "id": "14ad22f9",
   "metadata": {},
   "outputs": [],
   "source": [
    "class Designer(Employee):\n",
    "    def __init__(self, name, seniority):\n",
    "        super().__init__(name, seniority)\n",
    "            \n",
    "    def check_if_it_is_time_for_upgrade(self):\n",
    "        # для каждой международной премии увеличиваем счетчик на 2\n",
    "        self.seniority += 2\n",
    "                \n",
    "        # условие повышения сотрудника из презентации\n",
    "        if self.seniority - self.grade * 7 >= 0:\n",
    "            self.grade_up()\n",
    "                \n",
    "        # публикация результатов\n",
    "        return self.publish_grade()\n"
   ]
  },
  {
   "cell_type": "code",
   "execution_count": 9,
   "id": "a3ca1e19",
   "metadata": {},
   "outputs": [],
   "source": [
    "# проверяем как работает система повышения сотрудников на примере отдела дизайна\n",
    "\n",
    "# дизайнер Олег только что пришел в компанию\n",
    "oleg = Designer('Олег', 4)\n"
   ]
  },
  {
   "cell_type": "code",
   "execution_count": 10,
   "id": "4c09f984",
   "metadata": {},
   "outputs": [
    {
     "name": "stdout",
     "output_type": "stream",
     "text": [
      "Олег 1\n",
      "Олег 2\n",
      "Олег 2\n",
      "Олег 2\n",
      "Олег 3\n",
      "Олег 3\n",
      "Олег 3\n",
      "Олег 3\n",
      "Олег 4\n",
      "Олег 4\n",
      "Олег 4\n",
      "Олег 5\n",
      "Олег 5\n",
      "Олег 5\n",
      "Олег 5\n",
      "Олег 6\n",
      "Олег 6\n",
      "Олег 6\n",
      "Олег 7\n",
      "Олег 7\n"
     ]
    }
   ],
   "source": [
    "for i in range(20):\n",
    "    oleg.check_if_it_is_time_for_upgrade()\n"
   ]
  }
 ],
 "metadata": {
  "kernelspec": {
   "display_name": "Python 3",
   "language": "python",
   "name": "python3"
  },
  "language_info": {
   "codemirror_mode": {
    "name": "ipython",
    "version": 3
   },
   "file_extension": ".py",
   "mimetype": "text/x-python",
   "name": "python",
   "nbconvert_exporter": "python",
   "pygments_lexer": "ipython3",
   "version": "3.8.8"
  }
 },
 "nbformat": 4,
 "nbformat_minor": 5
}
